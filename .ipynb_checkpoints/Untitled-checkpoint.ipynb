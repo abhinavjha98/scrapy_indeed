{
 "cells": [
  {
   "cell_type": "code",
   "execution_count": 38,
   "metadata": {},
   "outputs": [],
   "source": [
    "import pandas as pd\n",
    "import re\n",
    "import requests\n",
    "from selenium.common.exceptions import NoSuchElementException\n",
    "from bs4 import BeautifulSoup\n",
    "from datetime import date, timedelta, datetime\n",
    "from IPython.core.display import clear_output\n",
    "from random import randint\n",
    "from requests import get\n",
    "from selenium import webdriver\n",
    "from selenium.webdriver.common.action_chains import ActionChains\n",
    "from time import sleep\n",
    "from time import time\n",
    "start_time = time()\n",
    "import urllib.request\n",
    "from warnings import warn\n",
    "import math"
   ]
  },
  {
   "cell_type": "code",
   "execution_count": 39,
   "metadata": {},
   "outputs": [],
   "source": [
    "url = \"https://www.indeed.com/jobs?q=&l=vista%2C+ca\"\n",
    "browser = webdriver.Chrome(\"chromedriver.exe\")\n",
    "browser.get(url)\n",
    "browsers = webdriver.Chrome(\"chromedriver.exe\")\n",
    "browsers.get(url)"
   ]
  },
  {
   "cell_type": "code",
   "execution_count": 40,
   "metadata": {},
   "outputs": [
    {
     "name": "stdout",
     "output_type": "stream",
     "text": [
      "https://www.indeed.com/rc/clk?jk=11fb307c1e04fbc9&fccid=938c68fc89db4b9d&vjs=3\n",
      "https://www.indeed.com/rc/clk?jk=1d72954603404fa8&fccid=08ff885501822d01&vjs=3\n",
      "https://www.indeed.com/rc/clk?jk=1162116e6953c2af&fccid=baa0b2acdbd0eff6&vjs=3\n",
      "https://www.indeed.com/rc/clk?jk=743e9ce2e0646891&fccid=7bec89cb1b3b9073&vjs=3\n",
      "https://www.indeed.com/rc/clk?jk=e51790ecaeb0c012&fccid=4c5f927329eee10e&vjs=3\n",
      "https://www.indeed.com/rc/clk?jk=7a18910de8ddddde&fccid=9f8c71b73195be9d&vjs=3\n",
      "https://www.indeed.com/rc/clk?jk=aede72969ed89223&fccid=419801c05606d650&vjs=3\n",
      "https://www.indeed.com/rc/clk?jk=bc66df5f8d1681f1&fccid=08aad655227da698&vjs=3\n",
      "https://www.indeed.com/rc/clk?jk=9a6b854b698a96d9&fccid=baa0b2acdbd0eff6&vjs=3\n",
      "https://www.indeed.com/rc/clk?jk=d333ce01bf3639c4&fccid=4c5f927329eee10e&vjs=3\n",
      "https://www.indeed.com/rc/clk?jk=5a201d8e10f10623&fccid=a88e611ddef97571&vjs=3\n",
      "https://www.indeed.com/rc/clk?jk=30a333bd84b89c28&fccid=9f8c71b73195be9d&vjs=3\n",
      "https://www.indeed.com/rc/clk?jk=2f6c0af765b77067&fccid=15f43d82dc901ff2&vjs=3\n",
      "https://www.indeed.com/rc/clk?jk=8bb35837ee522d0a&fccid=611ff94c5aca0534&vjs=3\n",
      "https://www.indeed.com/rc/clk?jk=0b771a24a12d031f&fccid=611ff94c5aca0534&vjs=3\n"
     ]
    }
   ],
   "source": [
    "data = browser.find_elements_by_xpath(\"//a[contains(@class, 'turnstileLink ')]\")\n",
    "for i in data:\n",
    "    print(i.get_attribute(\"href\"))"
   ]
  },
  {
   "cell_type": "code",
   "execution_count": 41,
   "metadata": {},
   "outputs": [],
   "source": [
    "url_max = url+\"&start=10000\"\n",
    "browser.get(url_max)"
   ]
  },
  {
   "cell_type": "code",
   "execution_count": 42,
   "metadata": {},
   "outputs": [],
   "source": [
    "count = browser.find_element_by_class_name(\"searchCount-a11y-contrast-color\")\n",
    "page_count = count.text\n",
    "page_count = page_count.replace(\" \", \"\")\n",
    "page_count = page_count.split(\"Page\")\n",
    "page_count = page_count[1].split(\"of\")\n",
    "page_count_int = int(page_count[0])"
   ]
  },
  {
   "cell_type": "code",
   "execution_count": 43,
   "metadata": {},
   "outputs": [
    {
     "data": {
      "text/plain": [
       "66"
      ]
     },
     "execution_count": 43,
     "metadata": {},
     "output_type": "execute_result"
    }
   ],
   "source": [
    "page_count_int"
   ]
  },
  {
   "cell_type": "code",
   "execution_count": 44,
   "metadata": {},
   "outputs": [],
   "source": [
    "data_page=[]\n",
    "for j in range(page_count_int+1):\n",
    "    data_page.append(url+\"&start=\"+str(j))"
   ]
  },
  {
   "cell_type": "code",
   "execution_count": 9,
   "metadata": {},
   "outputs": [],
   "source": [
    "# for i in data_page:\n",
    "#     browser.get(i)"
   ]
  },
  {
   "cell_type": "code",
   "execution_count": 45,
   "metadata": {},
   "outputs": [
    {
     "name": "stdout",
     "output_type": "stream",
     "text": [
      "https://www.indeed.com/rc/clk?jk=00f67304af453cbe&fccid=027d7cca25a5d14f&vjs=3\n",
      "https://www.indeed.com/rc/clk?jk=9d020d4d9bafbad9&fccid=5009bd35f16ecb58&vjs=3\n",
      "https://www.indeed.com/rc/clk?jk=2a4450cdeed5fc4d&fccid=98a32908fc82da75&vjs=3\n",
      "https://www.indeed.com/rc/clk?jk=e7ac3acdaa07504c&fccid=6087018ae42914c8&vjs=3\n",
      "https://www.indeed.com/rc/clk?jk=4c3c0b35fb00c919&fccid=ae8becc190d55f84&vjs=3\n",
      "https://www.indeed.com/rc/clk?jk=fdac9a2a5f59b1dc&fccid=7e502460c6a85e28&vjs=3\n",
      "https://www.indeed.com/rc/clk?jk=6a575e4f494d432f&fccid=fe2d21eef233e94a&vjs=3\n",
      "https://www.indeed.com/rc/clk?jk=7e3b752e5af1fe2e&fccid=8bee295d20b0b3f1&vjs=3\n",
      "https://www.indeed.com/rc/clk?jk=d8d62d5486aaf738&fccid=130b3e79d76146f6&vjs=3\n",
      "https://www.indeed.com/rc/clk?jk=97fbc989cb42e79d&fccid=f33adcecbae03a00&vjs=3\n",
      "https://www.indeed.com/rc/clk?jk=0aa1da19bc99124c&fccid=20f20544fed7c5e5&vjs=3\n",
      "https://www.indeed.com/rc/clk?jk=5667d60d8290daaa&fccid=dd616958bd9ddc12&vjs=3\n",
      "https://www.indeed.com/rc/clk?jk=dfdb170414c24395&fccid=8335404eba24c894&vjs=3\n",
      "https://www.indeed.com/rc/clk?jk=69db203a9657f224&fccid=94c490d1ac951f89&vjs=3\n",
      "https://www.indeed.com/rc/clk?jk=7d10f1b3b3eaa8e6&fccid=c3d54cd455267476&vjs=3\n"
     ]
    }
   ],
   "source": [
    "data = browser.find_elements_by_xpath(\"//a[contains(@class, 'turnstileLink ')]\")\n",
    "for i in data:\n",
    "    print(i.get_attribute(\"href\"))"
   ]
  },
  {
   "cell_type": "code",
   "execution_count": 47,
   "metadata": {},
   "outputs": [],
   "source": [
    "browser.get(\"https://www.indeed.com/viewjob?jk=743e9ce2e0646891&from=serp&vjs=3\")"
   ]
  },
  {
   "cell_type": "code",
   "execution_count": 12,
   "metadata": {},
   "outputs": [
    {
     "data": {
      "text/plain": [
       "'Model Maker'"
      ]
     },
     "execution_count": 12,
     "metadata": {},
     "output_type": "execute_result"
    }
   ],
   "source": [
    "job_name = browser.find_element_by_class_name(\"jobsearch-JobInfoHeader-title\")\n",
    "job_name.text"
   ]
  },
  {
   "cell_type": "code",
   "execution_count": 13,
   "metadata": {},
   "outputs": [
    {
     "data": {
      "text/plain": [
       "'BLC Projects Pvt Ltd\\n-\\nNoida, Uttar Pradesh'"
      ]
     },
     "execution_count": 13,
     "metadata": {},
     "output_type": "execute_result"
    }
   ],
   "source": [
    "job_name = browser.find_element_by_class_name(\"jobsearch-InlineCompanyRating\")\n",
    "job_name.text"
   ]
  },
  {
   "cell_type": "code",
   "execution_count": 14,
   "metadata": {},
   "outputs": [
    {
     "data": {
      "text/plain": [
       "'₹2,80,000 - ₹4,35,000 a year'"
      ]
     },
     "execution_count": 14,
     "metadata": {},
     "output_type": "execute_result"
    }
   ],
   "source": [
    "job_name = browser.find_element_by_class_name(\"jobsearch-JobMetadataHeader-item \")\n",
    "job_name.text"
   ]
  },
  {
   "cell_type": "code",
   "execution_count": 15,
   "metadata": {},
   "outputs": [
    {
     "data": {
      "text/plain": [
       "'Urgent hiring.\\n1. Candidate who can join within a week is applicable.\\n2. Candidate should be ready to work on projects out of town.\\n3. Candidate having experience of wood working, engraving, cladding work will be preferred.\\nJob Type: Full-time\\nSalary: ₹280,000.00 - ₹435,000.00 per year\\nSchedule:\\nDay shift\\nSupplemental Pay:\\nOvertime pay\\nPerformance bonus\\nExperience:\\nwork: 1 year (Preferred)\\ntotal work: 1 year (Preferred)\\nEducation:\\nSecondary(10th Pass) (Preferred)\\nBenefits:\\nProvident fund (PF)\\nFlexible work hours\\nIndustry:\\nArchitecture\\nWork Remotely:\\nNo'"
      ]
     },
     "execution_count": 15,
     "metadata": {},
     "output_type": "execute_result"
    }
   ],
   "source": [
    "job_name = browser.find_element_by_class_name(\"jobsearch-jobDescriptionText\")\n",
    "job_name.text"
   ]
  },
  {
   "cell_type": "code",
   "execution_count": 19,
   "metadata": {},
   "outputs": [],
   "source": [
    "job_name = job_name.text.replace('\\n','')"
   ]
  },
  {
   "cell_type": "code",
   "execution_count": 21,
   "metadata": {},
   "outputs": [
    {
     "data": {
      "text/plain": [
       "'Urgent hiring.1. Candidate who can join within a week is applicable.2. Candidate should be ready to work on projects out of town.3. Candidate having experience of wood working, engraving, cladding work will be preferred.Job Type: Full-timeSalary: ₹280,000.00 - ₹435,000.00 per yearSchedule:Day shiftSupplemental Pay:Overtime payPerformance bonusExperience:work: 1 year (Preferred)total work: 1 year (Preferred)Education:Secondary(10th Pass) (Preferred)Benefits:Provident fund (PF)Flexible work hoursIndustry:ArchitectureWork Remotely:No'"
      ]
     },
     "execution_count": 21,
     "metadata": {},
     "output_type": "execute_result"
    }
   ],
   "source": [
    "job_name"
   ]
  },
  {
   "cell_type": "code",
   "execution_count": 52,
   "metadata": {
    "scrolled": true
   },
   "outputs": [],
   "source": [
    "title = []\n",
    "company_name = []\n",
    "description = []\n",
    "salary = []\n",
    "jobs_type=[]\n",
    "logo=[]\n",
    "for i in data_page:\n",
    "\n",
    "    browser.get(i)\n",
    "    data = browser.find_elements_by_xpath(\"//a[contains(@class, 'turnstileLink ')]\")\n",
    "    for j in data:\n",
    "        browsers.get(j.get_attribute(\"href\"))\n",
    "        try:\n",
    "            job_name = browsers.find_element_by_class_name(\"jobsearch-JobInfoHeader-title\")\n",
    "            title.append(job_name.text)\n",
    "        except NoSuchElementException:\n",
    "            title.append(\"\")\n",
    "        try:\n",
    "            job_names = browsers.find_element_by_class_name(\"jobsearch-InlineCompanyRating\")\n",
    "            company_name.append(job_names.text)\n",
    "        except NoSuchElementException:\n",
    "            company_name.append(\"\")\n",
    "        try:    \n",
    "            job_name = browsers.find_element_by_class_name(\"jobsearch-JobMetadataHeader-item \")\n",
    "            salary.append(job_name.text)\n",
    "        except NoSuchElementException:\n",
    "            salary.append(\"\")\n",
    "        try:    \n",
    "            job_name = browsers.find_element_by_class_name(\"jobsearch-jobDescriptionText\")\n",
    "            job_name = job_name.text.replace('\\n','')\n",
    "            description.append(job_name)\n",
    "        except NoSuchElementException:\n",
    "            description.append(\"\")\n",
    "            \n",
    "        try:\n",
    "            flag = 0\n",
    "            type_job = \"\"\n",
    "            job_name = browsers.find_elements_by_css_selector(\"div\")\n",
    "            job_type = \"\"\n",
    "            for i in job_name:\n",
    "                job_type = job_type + str(i.text)\n",
    "            if \"Part-time\" in job_type:\n",
    "                type_job = \"\"\n",
    "                flag=1\n",
    "                type_job += \"Part-time\"\n",
    "            if \"Full-time\" in job_type:\n",
    "                type_job = \"\"\n",
    "                flag=2\n",
    "                type_job += \"Full-time\"\n",
    "            if \"Part-time\" in job_type:\n",
    "                if \"Full-time\" in job_type:\n",
    "                    type_job = \"\"\n",
    "                    flag=3\n",
    "                    type_job += \"Part-time Full-time\"\n",
    "            if flag==0:\n",
    "                type_job +=\" \"\n",
    "            jobs_type.append(type_job)\n",
    "        except NoSuchElementException:\n",
    "            jobs_type.append(\"\")\n",
    "        try:\n",
    "            logo_name = browsers.find_element_by_xpath(\"//img[contains(@class,'jobsearch-CompanyAvatar-image')]\")\n",
    "            logo.append(logo_name.get_attribute(\"src\"))\n",
    "        except NoSuchElementException:\n",
    "            logo.append(\"\")\n",
    "    break"
   ]
  },
  {
   "cell_type": "code",
   "execution_count": 53,
   "metadata": {},
   "outputs": [
    {
     "data": {
      "text/plain": [
       "(['https://d2q79iu7y748jz.cloudfront.net/s/_logo/4c1fcc83eb3f0a9c6a300fbccd61d6ae',\n",
       "  'https://d2q79iu7y748jz.cloudfront.net/s/_logo/e66f5154f238aec3c157d317dfb87098',\n",
       "  'https://d2q79iu7y748jz.cloudfront.net/s/_squarelogo/d3732fa0eca4adcf1d6d53773c41f072',\n",
       "  'https://d2q79iu7y748jz.cloudfront.net/s/_squarelogo/3d994958a1cb8372984f7b6dfe5873d9',\n",
       "  'https://d2q79iu7y748jz.cloudfront.net/s/_logo/fdbd491c877282a25e8593d3b41a9f59',\n",
       "  'https://d2q79iu7y748jz.cloudfront.net/s/_logo/79628a1055a1db137bf78d25e85298df',\n",
       "  'https://d2q79iu7y748jz.cloudfront.net/s/_logo/ff2c4eaf4f4fe0d6f0f5233ca990b349',\n",
       "  '',\n",
       "  'https://d2q79iu7y748jz.cloudfront.net/s/_logo/a8c73e36f09a89cfe5daa0486a1c35bb',\n",
       "  'https://d2q79iu7y748jz.cloudfront.net/s/_logo/029c573064a5f4351bf3049858c4ead3',\n",
       "  'https://d2q79iu7y748jz.cloudfront.net/s/_logo/4c1fcc83eb3f0a9c6a300fbccd61d6ae',\n",
       "  'https://d2q79iu7y748jz.cloudfront.net/s/_logo/8690d858423589e350be44058ca9d276',\n",
       "  'https://d2q79iu7y748jz.cloudfront.net/s/_squarelogo/3d994958a1cb8372984f7b6dfe5873d9',\n",
       "  'https://d2q79iu7y748jz.cloudfront.net/s/_logo/79628a1055a1db137bf78d25e85298df',\n",
       "  'https://d2q79iu7y748jz.cloudfront.net/s/_logo/967583b5d46f35a290ddc4343be13487'],\n",
       " ['Part-time',\n",
       "  'Part-time Full-time',\n",
       "  'Part-time',\n",
       "  'Part-time',\n",
       "  ' ',\n",
       "  ' ',\n",
       "  ' ',\n",
       "  ' ',\n",
       "  ' ',\n",
       "  ' ',\n",
       "  'Part-time',\n",
       "  'Part-time',\n",
       "  'Part-time',\n",
       "  ' ',\n",
       "  'Part-time'])"
      ]
     },
     "execution_count": 53,
     "metadata": {},
     "output_type": "execute_result"
    }
   ],
   "source": [
    "logo,jobs_type"
   ]
  },
  {
   "cell_type": "code",
   "execution_count": 28,
   "metadata": {},
   "outputs": [],
   "source": [
    "import pandas as pd \n",
    "   \n",
    "lst = [title,company_name,salary,description] \n",
    " \n",
    "df = pd.DataFrame(list(zip(title,company_name,salary,description)), columns =['Title','Company','Salary','Description']) \n",
    "df\n",
    "df.to_csv('Indeed_ex.csv',index=False)"
   ]
  },
  {
   "cell_type": "code",
   "execution_count": 32,
   "metadata": {},
   "outputs": [],
   "source": [
    "browser.get(\"https://www.indeed.com/viewjob?jk=743e9ce2e0646891&tk=1eor5qsa0nv8n800&from=serp&vjs=3\")"
   ]
  },
  {
   "cell_type": "code",
   "execution_count": 48,
   "metadata": {},
   "outputs": [],
   "source": [
    "job_name = browser.find_elements_by_css_selector(\"div\")\n",
    "job_type = \"\"\n",
    "for i in job_name:\n",
    "    job_type = job_type + str(i.text)"
   ]
  },
  {
   "cell_type": "code",
   "execution_count": 49,
   "metadata": {},
   "outputs": [
    {
     "data": {
      "text/plain": [
       "\"Indeed logo\\nFind jobs\\nCompany Reviews\\nFind salaries\\nUpload your resume\\nSign in\\nEmployers / Post Job\\nWhat\\nWhere\\nFind Jobs\\nAdvanced Job Search\\nSeasonal Cashier\\nMichaels\\n7,916 reviews\\n-\\nVista, CA 92083\\nJob details\\nJob Type\\nPart-time\\nFull Job Description\\nWe're here for the makers! Come be a part of the team where innovation and teamwork come together to support the most exciting missions in the world!\\nHelp customers shop our store and be able to find what they’re looking for. Ensure all customers receive a fast and friendly checkout experience. Maintain store recovery standards to deliver our Brand Promises. Prevent shrink with friendly service.\\nMajor Activities\\nAdhere to Standard Operating Procedures (SOP’s) and Company programs to ensure compliance to applicable laws and requirements; execute Company policies and standards\\nProvide a fast and friendly check out experience\\nExecute cash handling to standards\\nEngage customers on benefits of Rewards and complete enrollments\\nEducate customer on Voice of Customer (VOC) survey\\nParticipate in the truck un-load and stocking processes to ensure truck standards are followed and completed within budget\\nResponsible to complete merchandise recovery and maintenance to include the merchandise return / go back process\\nSupport shrink and safety programs\\nAssist with Omni channel processes\\nAcknowledge customers, help locate product and provide solutions\\nInteracts with others in an accepting and respectful manner; remains positive and respectful, even in difficult situations; promotes commitment to the organization’s vision and values; projects a positive image and serves as a role model for others\\nCross trained in Custom Framing selling and production\\nOther duties as assigned\\n\\nPreferred Type of experience the job requires\\nRetail and/or customer service experience preferred\\nWe are an Equal Opportunity Employer. Check out our EEO policy https://www.eeoc.gov/employers/upload/poster_screen_reader_optimized.pdf [eeoc.gov\\nMichaels - 1 day ago - original job\\nReport job\\nCashier jobs in Vista, CA\\nJobs at Michaels in Vista, CA\\nCashier salaries in Vista, CA\\nCompany Info\\nFollow\\nGet job updates from Michaels\\nMichaels\\n7,916 reviews\\n50,000 MAKERS ONE MISSION Our Mission: We go to work every day to do one thing: Make Creativity Happen. It was true when the fi...\\nLet employers find you\\nThousands of employers search for candidates on Indeed\\nUpload your resume\\nHiring Lab\\nCareer Advice\\nBrowse Jobs\\nBrowse Companies\\nSalaries\\nFind Certifications\\nIndeed Events\\nWork at Indeed\\nCountries\\nAbout\\nHelp Center\\n© 2020 Indeed\\nDo Not Sell My Personal Information\\nPrivacy Center\\nCookies\\nPrivacy\\nTerms\\nLet Employers Find You\\nUpload Your ResumeIndeed logo\\nFind jobs\\nCompany Reviews\\nFind salaries\\nUpload your resume\\nSign in\\nEmployers / Post JobIndeed logo\\nFind jobs\\nCompany Reviews\\nFind salaries\\nUpload your resume\\nSign in\\nEmployers / Post JobIndeed logo\\nFind jobs\\nCompany Reviews\\nFind salaries\\nUpload your resume\\nSign in\\nEmployers / Post JobIndeed logoFind jobs\\nCompany Reviews\\nFind salariesUpload your resume\\nSign in\\nEmployers / Post JobUpload your resumeSign inEmployers / Post JobWhat\\nWhere\\nFind Jobs\\nAdvanced Job Search\\nSeasonal Cashier\\nMichaels\\n7,916 reviews\\n-\\nVista, CA 92083\\nJob details\\nJob Type\\nPart-time\\nFull Job Description\\nWe're here for the makers! Come be a part of the team where innovation and teamwork come together to support the most exciting missions in the world!\\nHelp customers shop our store and be able to find what they’re looking for. Ensure all customers receive a fast and friendly checkout experience. Maintain store recovery standards to deliver our Brand Promises. Prevent shrink with friendly service.\\nMajor Activities\\nAdhere to Standard Operating Procedures (SOP’s) and Company programs to ensure compliance to applicable laws and requirements; execute Company policies and standards\\nProvide a fast and friendly check out experience\\nExecute cash handling to standards\\nEngage customers on benefits of Rewards and complete enrollments\\nEducate customer on Voice of Customer (VOC) survey\\nParticipate in the truck un-load and stocking processes to ensure truck standards are followed and completed within budget\\nResponsible to complete merchandise recovery and maintenance to include the merchandise return / go back process\\nSupport shrink and safety programs\\nAssist with Omni channel processes\\nAcknowledge customers, help locate product and provide solutions\\nInteracts with others in an accepting and respectful manner; remains positive and respectful, even in difficult situations; promotes commitment to the organization’s vision and values; projects a positive image and serves as a role model for others\\nCross trained in Custom Framing selling and production\\nOther duties as assigned\\n\\nPreferred Type of experience the job requires\\nRetail and/or customer service experience preferred\\nWe are an Equal Opportunity Employer. Check out our EEO policy https://www.eeoc.gov/employers/upload/poster_screen_reader_optimized.pdf [eeoc.gov\\nMichaels - 1 day ago - original job\\nReport job\\nCashier jobs in Vista, CA\\nJobs at Michaels in Vista, CA\\nCashier salaries in Vista, CA\\nCompany Info\\nFollow\\nGet job updates from Michaels\\nMichaels\\n7,916 reviews\\n50,000 MAKERS ONE MISSION Our Mission: We go to work every day to do one thing: Make Creativity Happen. It was true when the fi...\\nLet employers find you\\nThousands of employers search for candidates on Indeed\\nUpload your resumeWhat\\nWhere\\nFind Jobs\\nAdvanced Job SearchWhat\\nWhere\\nFind Jobs\\nAdvanced Job SearchWhat\\nWhere\\nFind Jobs\\nAdvanced Job SearchWhat\\nWhere\\nFind Jobs\\nAdvanced Job SearchWhatWhereFind JobsAdvanced Job SearchSeasonal Cashier\\nMichaels\\n7,916 reviews\\n-\\nVista, CA 92083\\nJob details\\nJob Type\\nPart-time\\nFull Job Description\\nWe're here for the makers! Come be a part of the team where innovation and teamwork come together to support the most exciting missions in the world!\\nHelp customers shop our store and be able to find what they’re looking for. Ensure all customers receive a fast and friendly checkout experience. Maintain store recovery standards to deliver our Brand Promises. Prevent shrink with friendly service.\\nMajor Activities\\nAdhere to Standard Operating Procedures (SOP’s) and Company programs to ensure compliance to applicable laws and requirements; execute Company policies and standards\\nProvide a fast and friendly check out experience\\nExecute cash handling to standards\\nEngage customers on benefits of Rewards and complete enrollments\\nEducate customer on Voice of Customer (VOC) survey\\nParticipate in the truck un-load and stocking processes to ensure truck standards are followed and completed within budget\\nResponsible to complete merchandise recovery and maintenance to include the merchandise return / go back process\\nSupport shrink and safety programs\\nAssist with Omni channel processes\\nAcknowledge customers, help locate product and provide solutions\\nInteracts with others in an accepting and respectful manner; remains positive and respectful, even in difficult situations; promotes commitment to the organization’s vision and values; projects a positive image and serves as a role model for others\\nCross trained in Custom Framing selling and production\\nOther duties as assigned\\n\\nPreferred Type of experience the job requires\\nRetail and/or customer service experience preferred\\nWe are an Equal Opportunity Employer. Check out our EEO policy https://www.eeoc.gov/employers/upload/poster_screen_reader_optimized.pdf [eeoc.gov\\nMichaels - 1 day ago - original job\\nReport job\\nCashier jobs in Vista, CA\\nJobs at Michaels in Vista, CA\\nCashier salaries in Vista, CA\\nCompany Info\\nFollow\\nGet job updates from Michaels\\nMichaels\\n7,916 reviews\\n50,000 MAKERS ONE MISSION Our Mission: We go to work every day to do one thing: Make Creativity Happen. It was true when the fi...\\nLet employers find you\\nThousands of employers search for candidates on Indeed\\nUpload your resumeSeasonal Cashier\\nMichaels\\n7,916 reviews\\n-\\nVista, CA 92083\\nJob details\\nJob Type\\nPart-time\\nFull Job Description\\nWe're here for the makers! Come be a part of the team where innovation and teamwork come together to support the most exciting missions in the world!\\nHelp customers shop our store and be able to find what they’re looking for. Ensure all customers receive a fast and friendly checkout experience. Maintain store recovery standards to deliver our Brand Promises. Prevent shrink with friendly service.\\nMajor Activities\\nAdhere to Standard Operating Procedures (SOP’s) and Company programs to ensure compliance to applicable laws and requirements; execute Company policies and standards\\nProvide a fast and friendly check out experience\\nExecute cash handling to standards\\nEngage customers on benefits of Rewards and complete enrollments\\nEducate customer on Voice of Customer (VOC) survey\\nParticipate in the truck un-load and stocking processes to ensure truck standards are followed and completed within budget\\nResponsible to complete merchandise recovery and maintenance to include the merchandise return / go back process\\nSupport shrink and safety programs\\nAssist with Omni channel processes\\nAcknowledge customers, help locate product and provide solutions\\nInteracts with others in an accepting and respectful manner; remains positive and respectful, even in difficult situations; promotes commitment to the organization’s vision and values; projects a positive image and serves as a role model for others\\nCross trained in Custom Framing selling and production\\nOther duties as assigned\\n\\nPreferred Type of experience the job requires\\nRetail and/or customer service experience preferred\\nWe are an Equal Opportunity Employer. Check out our EEO policy https://www.eeoc.gov/employers/upload/poster_screen_reader_optimized.pdf [eeoc.gov\\nMichaels - 1 day ago - original job\\nReport job\\nCashier jobs in Vista, CA\\nJobs at Michaels in Vista, CA\\nCashier salaries in Vista, CA\\nCompany Info\\nFollow\\nGet job updates from Michaels\\nMichaels\\n7,916 reviews\\n50,000 MAKERS ONE MISSION Our Mission: We go to work every day to do one thing: Make Creativity Happen. It was true when the fi...\\nLet employers find you\\nThousands of employers search for candidates on Indeed\\nUpload your resumeSeasonal Cashier\\nMichaels\\n7,916 reviews\\n-\\nVista, CA 92083\\nJob details\\nJob Type\\nPart-time\\nFull Job Description\\nWe're here for the makers! Come be a part of the team where innovation and teamwork come together to support the most exciting missions in the world!\\nHelp customers shop our store and be able to find what they’re looking for. Ensure all customers receive a fast and friendly checkout experience. Maintain store recovery standards to deliver our Brand Promises. Prevent shrink with friendly service.\\nMajor Activities\\nAdhere to Standard Operating Procedures (SOP’s) and Company programs to ensure compliance to applicable laws and requirements; execute Company policies and standards\\nProvide a fast and friendly check out experience\\nExecute cash handling to standards\\nEngage customers on benefits of Rewards and complete enrollments\\nEducate customer on Voice of Customer (VOC) survey\\nParticipate in the truck un-load and stocking processes to ensure truck standards are followed and completed within budget\\nResponsible to complete merchandise recovery and maintenance to include the merchandise return / go back process\\nSupport shrink and safety programs\\nAssist with Omni channel processes\\nAcknowledge customers, help locate product and provide solutions\\nInteracts with others in an accepting and respectful manner; remains positive and respectful, even in difficult situations; promotes commitment to the organization’s vision and values; projects a positive image and serves as a role model for others\\nCross trained in Custom Framing selling and production\\nOther duties as assigned\\n\\nPreferred Type of experience the job requires\\nRetail and/or customer service experience preferred\\nWe are an Equal Opportunity Employer. Check out our EEO policy https://www.eeoc.gov/employers/upload/poster_screen_reader_optimized.pdf [eeoc.gov\\nMichaels - 1 day ago - original job\\nReport job\\nCashier jobs in Vista, CA\\nJobs at Michaels in Vista, CA\\nCashier salaries in Vista, CA\\nCompany Info\\nFollow\\nGet job updates from Michaels\\nMichaels\\n7,916 reviews\\n50,000 MAKERS ONE MISSION Our Mission: We go to work every day to do one thing: Make Creativity Happen. It was true when the fi...\\nLet employers find you\\nThousands of employers search for candidates on Indeed\\nUpload your resumeSeasonal Cashier\\nMichaels\\n7,916 reviews\\n-\\nVista, CA 92083\\nJob details\\nJob Type\\nPart-time\\nFull Job Description\\nWe're here for the makers! Come be a part of the team where innovation and teamwork come together to support the most exciting missions in the world!\\nHelp customers shop our store and be able to find what they’re looking for. Ensure all customers receive a fast and friendly checkout experience. Maintain store recovery standards to deliver our Brand Promises. Prevent shrink with friendly service.\\nMajor Activities\\nAdhere to Standard Operating Procedures (SOP’s) and Company programs to ensure compliance to applicable laws and requirements; execute Company policies and standards\\nProvide a fast and friendly check out experience\\nExecute cash handling to standards\\nEngage customers on benefits of Rewards and complete enrollments\\nEducate customer on Voice of Customer (VOC) survey\\nParticipate in the truck un-load and stocking processes to ensure truck standards are followed and completed within budget\\nResponsible to complete merchandise recovery and maintenance to include the merchandise return / go back process\\nSupport shrink and safety programs\\nAssist with Omni channel processes\\nAcknowledge customers, help locate product and provide solutions\\nInteracts with others in an accepting and respectful manner; remains positive and respectful, even in difficult situations; promotes commitment to the organization’s vision and values; projects a positive image and serves as a role model for others\\nCross trained in Custom Framing selling and production\\nOther duties as assigned\\n\\nPreferred Type of experience the job requires\\nRetail and/or customer service experience preferred\\nWe are an Equal Opportunity Employer. Check out our EEO policy https://www.eeoc.gov/employers/upload/poster_screen_reader_optimized.pdf [eeoc.gov\\nMichaels - 1 day ago - original job\\nReport job\\nCashier jobs in Vista, CA\\nJobs at Michaels in Vista, CA\\nCashier salaries in Vista, CASeasonal Cashier\\nMichaels\\n7,916 reviews\\n-\\nVista, CA 92083\\nJob details\\nJob Type\\nPart-time\\nFull Job Description\\nWe're here for the makers! Come be a part of the team where innovation and teamwork come together to support the most exciting missions in the world!\\nHelp customers shop our store and be able to find what they’re looking for. Ensure all customers receive a fast and friendly checkout experience. Maintain store recovery standards to deliver our Brand Promises. Prevent shrink with friendly service.\\nMajor Activities\\nAdhere to Standard Operating Procedures (SOP’s) and Company programs to ensure compliance to applicable laws and requirements; execute Company policies and standards\\nProvide a fast and friendly check out experience\\nExecute cash handling to standards\\nEngage customers on benefits of Rewards and complete enrollments\\nEducate customer on Voice of Customer (VOC) survey\\nParticipate in the truck un-load and stocking processes to ensure truck standards are followed and completed within budget\\nResponsible to complete merchandise recovery and maintenance to include the merchandise return / go back process\\nSupport shrink and safety programs\\nAssist with Omni channel processes\\nAcknowledge customers, help locate product and provide solutions\\nInteracts with others in an accepting and respectful manner; remains positive and respectful, even in difficult situations; promotes commitment to the organization’s vision and values; projects a positive image and serves as a role model for others\\nCross trained in Custom Framing selling and production\\nOther duties as assigned\\n\\nPreferred Type of experience the job requires\\nRetail and/or customer service experience preferred\\nWe are an Equal Opportunity Employer. Check out our EEO policy https://www.eeoc.gov/employers/upload/poster_screen_reader_optimized.pdf [eeoc.gov\\nMichaels - 1 day ago - original job\\nReport jobSeasonal Cashier\\nMichaels\\n7,916 reviews\\n-\\nVista, CA 92083\\nJob details\\nJob Type\\nPart-time\\nFull Job Description\\nWe're here for the makers! Come be a part of the team where innovation and teamwork come together to support the most exciting missions in the world!\\nHelp customers shop our store and be able to find what they’re looking for. Ensure all customers receive a fast and friendly checkout experience. Maintain store recovery standards to deliver our Brand Promises. Prevent shrink with friendly service.\\nMajor Activities\\nAdhere to Standard Operating Procedures (SOP’s) and Company programs to ensure compliance to applicable laws and requirements; execute Company policies and standards\\nProvide a fast and friendly check out experience\\nExecute cash handling to standards\\nEngage customers on benefits of Rewards and complete enrollments\\nEducate customer on Voice of Customer (VOC) survey\\nParticipate in the truck un-load and stocking processes to ensure truck standards are followed and completed within budget\\nResponsible to complete merchandise recovery and maintenance to include the merchandise return / go back process\\nSupport shrink and safety programs\\nAssist with Omni channel processes\\nAcknowledge customers, help locate product and provide solutions\\nInteracts with others in an accepting and respectful manner; remains positive and respectful, even in difficult situations; promotes commitment to the organization’s vision and values; projects a positive image and serves as a role model for others\\nCross trained in Custom Framing selling and production\\nOther duties as assigned\\n\\nPreferred Type of experience the job requires\\nRetail and/or customer service experience preferred\\nWe are an Equal Opportunity Employer. Check out our EEO policy https://www.eeoc.gov/employers/upload/poster_screen_reader_optimized.pdf [eeoc.gov\\nMichaels - 1 day ago - original job\\nReport jobSeasonal Cashier\\nMichaels\\n7,916 reviews\\n-\\nVista, CA 92083Seasonal Cashier\\nMichaels\\n7,916 reviews\\n-\\nVista, CA 92083Seasonal CashierMichaels\\n7,916 reviews\\n-\\nVista, CA 92083Michaels\\n7,916 reviews\\n-\\nVista, CA 92083Michaels\\n7,916 reviews\\n-\\nVista, CA 92083Michaels\\n7,916 reviews\\n-\\nVista, CA 92083Michaels7,916 reviews7,916 reviews7,916 reviews7,916 reviews-Vista, CA 92083Job details\\nJob Type\\nPart-time\\nFull Job Description\\nWe're here for the makers! Come be a part of the team where innovation and teamwork come together to support the most exciting missions in the world!\\nHelp customers shop our store and be able to find what they’re looking for. Ensure all customers receive a fast and friendly checkout experience. Maintain store recovery standards to deliver our Brand Promises. Prevent shrink with friendly service.\\nMajor Activities\\nAdhere to Standard Operating Procedures (SOP’s) and Company programs to ensure compliance to applicable laws and requirements; execute Company policies and standards\\nProvide a fast and friendly check out experience\\nExecute cash handling to standards\\nEngage customers on benefits of Rewards and complete enrollments\\nEducate customer on Voice of Customer (VOC) survey\\nParticipate in the truck un-load and stocking processes to ensure truck standards are followed and completed within budget\\nResponsible to complete merchandise recovery and maintenance to include the merchandise return / go back process\\nSupport shrink and safety programs\\nAssist with Omni channel processes\\nAcknowledge customers, help locate product and provide solutions\\nInteracts with others in an accepting and respectful manner; remains positive and respectful, even in difficult situations; promotes commitment to the organization’s vision and values; projects a positive image and serves as a role model for others\\nCross trained in Custom Framing selling and production\\nOther duties as assigned\\n\\nPreferred Type of experience the job requires\\nRetail and/or customer service experience preferred\\nWe are an Equal Opportunity Employer. Check out our EEO policy https://www.eeoc.gov/employers/upload/poster_screen_reader_optimized.pdf [eeoc.govJob details\\nJob Type\\nPart-timeJob details\\nJob Type\\nPart-timeJob detailsJob Type\\nPart-timeJob TypePart-timeWe're here for the makers! Come be a part of the team where innovation and teamwork come together to support the most exciting missions in the world!\\nHelp customers shop our store and be able to find what they’re looking for. Ensure all customers receive a fast and friendly checkout experience. Maintain store recovery standards to deliver our Brand Promises. Prevent shrink with friendly service.\\nMajor Activities\\nAdhere to Standard Operating Procedures (SOP’s) and Company programs to ensure compliance to applicable laws and requirements; execute Company policies and standards\\nProvide a fast and friendly check out experience\\nExecute cash handling to standards\\nEngage customers on benefits of Rewards and complete enrollments\\nEducate customer on Voice of Customer (VOC) survey\\nParticipate in the truck un-load and stocking processes to ensure truck standards are followed and completed within budget\\nResponsible to complete merchandise recovery and maintenance to include the merchandise return / go back process\\nSupport shrink and safety programs\\nAssist with Omni channel processes\\nAcknowledge customers, help locate product and provide solutions\\nInteracts with others in an accepting and respectful manner; remains positive and respectful, even in difficult situations; promotes commitment to the organization’s vision and values; projects a positive image and serves as a role model for others\\nCross trained in Custom Framing selling and production\\nOther duties as assigned\\n\\nPreferred Type of experience the job requires\\nRetail and/or customer service experience preferred\\nWe are an Equal Opportunity Employer. Check out our EEO policy https://www.eeoc.gov/employers/upload/poster_screen_reader_optimized.pdf [eeoc.govWe're here for the makers! Come be a part of the team where innovation and teamwork come together to support the most exciting missions in the world!\\nHelp customers shop our store and be able to find what they’re looking for. Ensure all customers receive a fast and friendly checkout experience. Maintain store recovery standards to deliver our Brand Promises. Prevent shrink with friendly service.\\nMajor Activities\\nAdhere to Standard Operating Procedures (SOP’s) and Company programs to ensure compliance to applicable laws and requirements; execute Company policies and standards\\nProvide a fast and friendly check out experience\\nExecute cash handling to standards\\nEngage customers on benefits of Rewards and complete enrollments\\nEducate customer on Voice of Customer (VOC) survey\\nParticipate in the truck un-load and stocking processes to ensure truck standards are followed and completed within budget\\nResponsible to complete merchandise recovery and maintenance to include the merchandise return / go back process\\nSupport shrink and safety programs\\nAssist with Omni channel processes\\nAcknowledge customers, help locate product and provide solutions\\nInteracts with others in an accepting and respectful manner; remains positive and respectful, even in difficult situations; promotes commitment to the organization’s vision and values; projects a positive image and serves as a role model for others\\nCross trained in Custom Framing selling and production\\nOther duties as assigned\\n\\nPreferred Type of experience the job requires\\nRetail and/or customer service experience preferred\\nWe are an Equal Opportunity Employer. Check out our EEO policy https://www.eeoc.gov/employers/upload/poster_screen_reader_optimized.pdf [eeoc.govMichaels - 1 day ago - original job\\nReport jobMichaels - 1 day ago - original job\\nReport jobReport jobReport jobCashier jobs in Vista, CA\\nJobs at Michaels in Vista, CA\\nCashier salaries in Vista, CACashier jobs in Vista, CA\\nJobs at Michaels in Vista, CA\\nCashier salaries in Vista, CACashier jobs in Vista, CAJobs at Michaels in Vista, CACashier salaries in Vista, CACompany Info\\nFollow\\nGet job updates from Michaels\\nMichaels\\n7,916 reviews\\n50,000 MAKERS ONE MISSION Our Mission: We go to work every day to do one thing: Make Creativity Happen. It was true when the fi...\\nLet employers find you\\nThousands of employers search for candidates on Indeed\\nUpload your resumeCompany Info\\nFollow\\nGet job updates from Michaels\\nMichaels\\n7,916 reviews\\n50,000 MAKERS ONE MISSION Our Mission: We go to work every day to do one thing: Make Creativity Happen. It was true when the fi...Company Info\\nFollow\\nGet job updates from Michaels\\nMichaels\\n7,916 reviews\\n50,000 MAKERS ONE MISSION Our Mission: We go to work every day to do one thing: Make Creativity Happen. It was true when the fi...Company Info\\nFollow\\nGet job updates from Michaels\\nMichaels\\n7,916 reviews\\n50,000 MAKERS ONE MISSION Our Mission: We go to work every day to do one thing: Make Creativity Happen. It was true when the fi...Company InfoFollow\\nGet job updates from Michaels\\nMichaels\\n7,916 reviews\\n50,000 MAKERS ONE MISSION Our Mission: We go to work every day to do one thing: Make Creativity Happen. It was true when the fi...Follow\\nGet job updates from MichaelsFollowGet job updates from MichaelsMichaels\\n7,916 reviews7,916 reviews7,916 reviews7,916 reviews7,916 reviews50,000 MAKERS ONE MISSION Our Mission: We go to work every day to do one thing: Make Creativity Happen. It was true when the fi...Let employers find you\\nThousands of employers search for candidates on Indeed\\nUpload your resumeLet employers find you\\nThousands of employers search for candidates on Indeed\\nUpload your resumeLet employers find you\\nThousands of employers search for candidates on Indeed\\nUpload your resumeLet employers find youThousands of employers search for candidates on Indeed\\nUpload your resumeThousands of employers search for candidates on IndeedUpload your resumeHiring Lab\\nCareer Advice\\nBrowse Jobs\\nBrowse Companies\\nSalaries\\nFind Certifications\\nIndeed Events\\nWork at Indeed\\nCountries\\nAbout\\nHelp Center\\n© 2020 Indeed\\nDo Not Sell My Personal Information\\nPrivacy Center\\nCookies\\nPrivacy\\nTerms\\nLet Employers Find You\\nUpload Your ResumeHiring Lab\\nCareer Advice\\nBrowse Jobs\\nBrowse Companies\\nSalaries\\nFind Certifications\\nIndeed Events\\nWork at Indeed\\nCountries\\nAbout\\nHelp Center\\n© 2020 Indeed\\nDo Not Sell My Personal Information\\nPrivacy Center\\nCookies\\nPrivacy\\nTermsHiring Lab\\nCareer Advice\\nBrowse Jobs\\nBrowse Companies\\nSalaries\\nFind Certifications\\nIndeed Events\\nWork at Indeed\\nCountries\\nAbout\\nHelp Center\\n© 2020 Indeed\\nDo Not Sell My Personal Information\\nPrivacy Center\\nCookies\\nPrivacy\\nTermsLet Employers Find You\\nUpload Your Resume\""
      ]
     },
     "execution_count": 49,
     "metadata": {},
     "output_type": "execute_result"
    }
   ],
   "source": [
    "job_type"
   ]
  },
  {
   "cell_type": "code",
   "execution_count": 14,
   "metadata": {},
   "outputs": [],
   "source": [
    "logo_name = browser.find_element_by_xpath(\"//img[contains(@class,'jobsearch-CompanyAvatar-image')]\")"
   ]
  },
  {
   "cell_type": "code",
   "execution_count": 15,
   "metadata": {},
   "outputs": [
    {
     "data": {
      "text/plain": [
       "'https://d2q79iu7y748jz.cloudfront.net/s/_logo/fdbd491c877282a25e8593d3b41a9f59'"
      ]
     },
     "execution_count": 15,
     "metadata": {},
     "output_type": "execute_result"
    }
   ],
   "source": [
    "logo_name.get_attribute(\"src\")"
   ]
  },
  {
   "cell_type": "code",
   "execution_count": null,
   "metadata": {},
   "outputs": [],
   "source": []
  }
 ],
 "metadata": {
  "kernelspec": {
   "display_name": "Python 3",
   "language": "python",
   "name": "python3"
  },
  "language_info": {
   "codemirror_mode": {
    "name": "ipython",
    "version": 3
   },
   "file_extension": ".py",
   "mimetype": "text/x-python",
   "name": "python",
   "nbconvert_exporter": "python",
   "pygments_lexer": "ipython3",
   "version": "3.7.4"
  }
 },
 "nbformat": 4,
 "nbformat_minor": 2
}
