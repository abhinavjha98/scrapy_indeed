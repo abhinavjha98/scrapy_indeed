{
 "cells": [
  {
   "cell_type": "code",
   "execution_count": 1,
   "metadata": {},
   "outputs": [],
   "source": [
    "import pandas as pd\n",
    "import re\n",
    "import requests\n",
    "from selenium.common.exceptions import NoSuchElementException\n",
    "from bs4 import BeautifulSoup\n",
    "from datetime import date, timedelta, datetime\n",
    "from IPython.core.display import clear_output\n",
    "from random import randint\n",
    "from requests import get\n",
    "from selenium import webdriver\n",
    "from selenium.webdriver.common.action_chains import ActionChains\n",
    "from time import sleep\n",
    "from time import time\n",
    "start_time = time()\n",
    "import urllib.request\n",
    "from warnings import warn\n",
    "import math"
   ]
  },
  {
   "cell_type": "code",
   "execution_count": 3,
   "metadata": {},
   "outputs": [],
   "source": [
    "url = \"https://in.indeed.com/jobs?q=&l=Noida%2C+Uttar+Pradesh\"\n",
    "browser = webdriver.Chrome(\"chromedriver.exe\")\n",
    "browser.get(url)"
   ]
  },
  {
   "cell_type": "code",
   "execution_count": 4,
   "metadata": {},
   "outputs": [
    {
     "name": "stdout",
     "output_type": "stream",
     "text": [
      "https://in.indeed.com/company/ArtGrami-Creative-Marketing-Private-Limited/jobs/Back-Office-Executive-ce667cc09ae5e002?fccid=273a043af66f567e&vjs=3\n",
      "https://in.indeed.com/company/stanfab-apparels-private-limited/jobs/Back-Office-Executive-9623eb77377505c5?fccid=ca3e276eec84c003&vjs=3\n",
      "https://in.indeed.com/company/Feel-the-Floors/jobs/Need-Backend-94f6c72792b0de5b?fccid=a41b3cbd6a19acad&vjs=3\n",
      "https://in.indeed.com/company/Conax-system-pvt-ltd/jobs/Customer-Service-Back-Office-Executive-4c64d9da68c8fdfe?fccid=59cdbe91c56624c8&vjs=3\n",
      "https://in.indeed.com/company/SphereGen-Technologies-Pvt-Ltd/jobs/Fresher-Office-Assistant-93a977f6369d17a9?fccid=45678c9bf2452d1d&vjs=3\n",
      "https://in.indeed.com/company/3s-buildcon/jobs/Personal-Assistant-28a855a96ca988bc?fccid=3eb7d6741af2ece5&vjs=3\n",
      "https://in.indeed.com/company/InknowTech-Pvt.-Ltd/jobs/Data-Entry-Operator-Fresher-90ac5b9bf8202f4b?fccid=f6e2454a8fc377d3&vjs=3\n",
      "https://in.indeed.com/company/DG-INTERNATIONAL-LLP/jobs/Amazon-Flipkart-Days-Working-Verification-Work-a207d26aeb9bf91b?fccid=906d77815ae8c54f&vjs=3\n",
      "https://in.indeed.com/company/Currant-Fielding-Solutions/jobs/Research-Associate-b3802b34032cc2c5?fccid=5c57f2ee74bea2b0&vjs=3\n",
      "https://in.indeed.com/rc/clk?jk=11875bb461d2e392&fccid=71479c0791af0b92&vjs=3\n",
      "https://in.indeed.com/company/Integrated-Learning-Centre/jobs/Receptionist-Administration-Assistant-de81fb3f6e9944cf?fccid=0e3e66486dc6e202&vjs=3\n",
      "https://in.indeed.com/company/Edukyu-Pvt-Ltd/jobs/Work-From-Office-Opportunity-Education-Counsellor-04e8789a74d0bf7d?fccid=43fb939e49135c9a&vjs=3\n",
      "https://in.indeed.com/company/PaperByte-Private-Limited/jobs/Personal-Assistant-425b467ebcc07ee9?fccid=86bb18e72372ce6a&vjs=3\n",
      "https://in.indeed.com/company/Hobb-International-Pvt.-Ltd./jobs/Amazon-Days-Working-Verification-Work-b4119e0a5b9773fb?fccid=a60ee3e4c756cd05&vjs=3\n",
      "https://in.indeed.com/company/Shajuky-Exports/jobs/Data-Entry-Clerk-5e8667fba7411c02?fccid=b50189f4e841e5c8&vjs=3\n"
     ]
    }
   ],
   "source": [
    "data = browser.find_elements_by_xpath(\"//a[contains(@class, 'turnstileLink ')]\")\n",
    "for i in data:\n",
    "    print(i.get_attribute(\"href\"))"
   ]
  },
  {
   "cell_type": "code",
   "execution_count": 5,
   "metadata": {},
   "outputs": [],
   "source": [
    "url_max = url+\"&start=10000\"\n",
    "browser.get(url_max)"
   ]
  },
  {
   "cell_type": "code",
   "execution_count": 6,
   "metadata": {},
   "outputs": [],
   "source": [
    "count = browser.find_element_by_class_name(\"searchCount-a11y-contrast-color\")\n",
    "page_count = count.text\n",
    "page_count = page_count.replace(\" \", \"\")\n",
    "page_count = page_count.split(\"Page\")\n",
    "page_count = page_count[1].split(\"of\")\n",
    "page_count_int = int(page_count[0])"
   ]
  },
  {
   "cell_type": "code",
   "execution_count": 7,
   "metadata": {},
   "outputs": [
    {
     "data": {
      "text/plain": [
       "67"
      ]
     },
     "execution_count": 7,
     "metadata": {},
     "output_type": "execute_result"
    }
   ],
   "source": [
    "page_count_int"
   ]
  },
  {
   "cell_type": "code",
   "execution_count": 8,
   "metadata": {},
   "outputs": [],
   "source": [
    "data_page=[]\n",
    "for j in range(page_count_int+1):\n",
    "    data_page.append(url+\"&start=\"+str(j))"
   ]
  },
  {
   "cell_type": "code",
   "execution_count": null,
   "metadata": {},
   "outputs": [],
   "source": [
    "for i in data_page:\n",
    "    browser.get(i)"
   ]
  },
  {
   "cell_type": "code",
   "execution_count": null,
   "metadata": {},
   "outputs": [],
   "source": [
    "data = browser.find_elements_by_xpath(\"//a[contains(@class, 'turnstileLink ')]\")\n",
    "for i in data:\n",
    "    print(i.get_attribute(\"href\"))"
   ]
  },
  {
   "cell_type": "code",
   "execution_count": 40,
   "metadata": {},
   "outputs": [],
   "source": [
    "browser.get(\"https://in.indeed.com/pagead/clk?mo=r&ad=-6NYlbfkN0AKnhW53H2bw_lqhSHJF9Zwa8ts92YdnLT4SEeYo0P_xCXbsiGtxNkwMUzDxD6rbS5jORg3hycvvkCGhG6Pokx60xyFtWFDVspU0MXkjbtfVcNsbt8Cr3J-rc2SDLTvj_RljdEFlybDLcMEPD0W9kWa9rhq6CNIPFg0J0cnm4UARn5M4dmw368P0cBF7iYKQcWtN731EACWWDEsijfgXBUGZ8hqy3cU30P3QJuuWiIrLSwkZn_X0zh0uYrJ1W22o1pb3q5pmK4F3eWI3xevFSq2mY08gMVQ7YXxJbrJ27d-sGwZA7pucAhZ6WfdQIxKMbNXi0PRSO3unA3Q5Hs0xZ3ujToaJRJYYqwZHhSZNxtcfcaVCEBsOWoYvw39608oKBJnjOyrjJEL08ypughw4-kDriRLjbbSrRAYm4nYFiANmYEPPhkN3WnK2DeBYwsE1Fu8aPJ9kqicX3pV1vFLiNBz&p=0&fvj=1&vjs=3\")"
   ]
  },
  {
   "cell_type": "code",
   "execution_count": 42,
   "metadata": {},
   "outputs": [
    {
     "data": {
      "text/plain": [
       "'Model Maker'"
      ]
     },
     "execution_count": 42,
     "metadata": {},
     "output_type": "execute_result"
    }
   ],
   "source": [
    "job_name = browser.find_element_by_class_name(\"jobsearch-JobInfoHeader-title\")\n",
    "job_name.text"
   ]
  },
  {
   "cell_type": "code",
   "execution_count": 43,
   "metadata": {},
   "outputs": [
    {
     "data": {
      "text/plain": [
       "'BLC Projects Pvt Ltd\\n-\\nNoida, Uttar Pradesh'"
      ]
     },
     "execution_count": 43,
     "metadata": {},
     "output_type": "execute_result"
    }
   ],
   "source": [
    "job_name = browser.find_element_by_class_name(\"jobsearch-InlineCompanyRating\")\n",
    "job_name.text"
   ]
  },
  {
   "cell_type": "code",
   "execution_count": 44,
   "metadata": {},
   "outputs": [
    {
     "data": {
      "text/plain": [
       "'₹2,80,000 - ₹4,35,000 a year'"
      ]
     },
     "execution_count": 44,
     "metadata": {},
     "output_type": "execute_result"
    }
   ],
   "source": [
    "job_name = browser.find_element_by_class_name(\"jobsearch-JobMetadataHeader-item \")\n",
    "job_name.text"
   ]
  },
  {
   "cell_type": "code",
   "execution_count": 45,
   "metadata": {},
   "outputs": [
    {
     "data": {
      "text/plain": [
       "'Urgent hiring.\\n1. Candidate who can join within a week is applicable.\\n2. Candidate should be ready to work on projects out of town.\\n3. Candidate having experience of wood working, engraving, cladding work will be preferred.\\nJob Type: Full-time\\nSalary: ₹280,000.00 - ₹435,000.00 per year\\nSchedule:\\nDay shift\\nSupplemental Pay:\\nOvertime pay\\nPerformance bonus\\nExperience:\\nwork: 1 year (Preferred)\\ntotal work: 1 year (Preferred)\\nEducation:\\nSecondary(10th Pass) (Preferred)\\nBenefits:\\nProvident fund (PF)\\nFlexible work hours\\nIndustry:\\nArchitecture\\nWork Remotely:\\nNo'"
      ]
     },
     "execution_count": 45,
     "metadata": {},
     "output_type": "execute_result"
    }
   ],
   "source": [
    "job_name = browser.find_element_by_class_name(\"jobsearch-jobDescriptionText\")\n",
    "job_name.text"
   ]
  },
  {
   "cell_type": "code",
   "execution_count": null,
   "metadata": {},
   "outputs": [],
   "source": []
  }
 ],
 "metadata": {
  "kernelspec": {
   "display_name": "Python 3",
   "language": "python",
   "name": "python3"
  },
  "language_info": {
   "codemirror_mode": {
    "name": "ipython",
    "version": 3
   },
   "file_extension": ".py",
   "mimetype": "text/x-python",
   "name": "python",
   "nbconvert_exporter": "python",
   "pygments_lexer": "ipython3",
   "version": "3.7.4"
  }
 },
 "nbformat": 4,
 "nbformat_minor": 2
}
