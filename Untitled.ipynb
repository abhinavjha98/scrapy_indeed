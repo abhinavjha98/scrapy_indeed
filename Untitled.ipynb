{
 "cells": [
  {
   "cell_type": "code",
   "execution_count": 1,
   "metadata": {},
   "outputs": [],
   "source": [
    "import pandas as pd\n",
    "import re\n",
    "import requests\n",
    "from selenium.common.exceptions import NoSuchElementException\n",
    "from bs4 import BeautifulSoup\n",
    "from datetime import date, timedelta, datetime\n",
    "from IPython.core.display import clear_output\n",
    "from random import randint\n",
    "from requests import get\n",
    "from selenium import webdriver\n",
    "from selenium.webdriver.common.action_chains import ActionChains\n",
    "from time import sleep\n",
    "from time import time\n",
    "start_time = time()\n",
    "import urllib.request\n",
    "from warnings import warn\n",
    "import math"
   ]
  },
  {
   "cell_type": "code",
   "execution_count": 39,
   "metadata": {},
   "outputs": [],
   "source": [
    "url = \"https://in.indeed.com/jobs?q=&l=Noida%2C+Uttar+Pradesh\"\n",
    "browser = webdriver.Chrome(\"chromedriver.exe\")\n",
    "browser.get(url)"
   ]
  },
  {
   "cell_type": "code",
   "execution_count": 7,
   "metadata": {},
   "outputs": [
    {
     "name": "stdout",
     "output_type": "stream",
     "text": [
      "https://in.indeed.com/pagead/clk?mo=r&ad=-6NYlbfkN0AKnhW53H2bw_lqhSHJF9Zwa8ts92YdnLT4SEeYo0P_xCXbsiGtxNkwMUzDxD6rbS5jORg3hycvvkCGhG6Pokx60xyFtWFDVspU0MXkjbtfVcNsbt8Cr3J-rc2SDLTvj_RljdEFlybDLcMEPD0W9kWa9rhq6CNIPFg0J0cnm4UARn5M4dmw368P0cBF7iYKQcWtN731EACWWDEsijfgXBUGZ8hqy3cU30P3QJuuWiIrLSwkZn_X0zh0uYrJ1W22o1pb3q5pmK4F3eWI3xevFSq2mY08gMVQ7YXxJbrJ27d-sGwZA7pucAhZ6WfdQIxKMbNXi0PRSO3unA3Q5Hs0xZ3ujToaJRJYYqwZHhSZNxtcfcaVCEBsOWoYvw39608oKBJnjOyrjJEL08ypughw4-kDriRLjbbSrRAYm4nYFiANmYEPPhkN3WnK2DeBYwsE1Fu8aPJ9kqicX3pV1vFLiNBz&p=0&fvj=1&vjs=3\n",
      "https://in.indeed.com/pagead/clk?mo=r&ad=-6NYlbfkN0CFWpaj5qtWcUWXej2WZUwIPWW6HeEIAOlZfLWFa-bJNaBoJsQ2-DbpQtn-LGwgFbcHoB_VeRH3ShDnDDhT9gG62-nxfzoUpAvBADn0l1rPc28vqqMy7HISLUBps4rL0OA5AH1c1NYL2KAbBPd3_C8RjIoXtad6UBnOPmjiJTQd30tRU6pwkXLyYfLtfL4kUnMpkhifOIp0L5wi0tcI9x9P4yJK4_6XyRU2GR16szhrY6d2ihgyswgeInpkx_COGJrAnX-EtyIK-S-jLHCH7a3Xl6pniXSc69m7g3tRpJvY9vzPsuNJZjYtfG_UclXRk_H7hU5oHn9zvCEvuUPuAAuhrYdTQAssp9bRJrx2aeEJtvaUYM_QUvAJG1WEsX2Vyv5a-p_DLH103zrAqwv-AY-Ay-atQBTQ4PY72-hwAfbzMmSs_eko38xbi_mLh7lGlcg=&p=1&fvj=1&vjs=3\n",
      "https://in.indeed.com/company/InknowTech-Pvt.-Ltd/jobs/Data-Entry-Operator-Fresher-90ac5b9bf8202f4b?fccid=f6e2454a8fc377d3&vjs=3\n",
      "https://in.indeed.com/company/3s-buildcon/jobs/Personal-Assistant-28a855a96ca988bc?fccid=3eb7d6741af2ece5&vjs=3\n",
      "https://in.indeed.com/company/PaperByte-Private-Limited/jobs/Personal-Assistant-425b467ebcc07ee9?fccid=86bb18e72372ce6a&vjs=3\n",
      "https://in.indeed.com/company/Amar-Ujala-Web-Services/jobs/Office-Assistant-8f638bb38236e772?fccid=b9fc03789e624233&vjs=3\n",
      "https://in.indeed.com/rc/clk?jk=65f6d4c2eb6b8413&fccid=883ad2d1bdded271&vjs=3\n",
      "https://in.indeed.com/company/Ocrolus-East-pvt-ltd./jobs/Data-Entry-Verifier-6076c284e1f644ff?fccid=6e27aaa05559faa3&vjs=3\n",
      "https://in.indeed.com/rc/clk?jk=6be4b422ce6a07cd&fccid=ac38a400acc8fe73&vjs=3\n",
      "https://in.indeed.com/company/Jasper-colin-Research-Pvt-Ltd/jobs/Ea-CEO-ac455274d324c8ea?fccid=8f863576ac0345d9&vjs=3\n",
      "https://in.indeed.com/company/i-services-india-pvt-ltd/jobs/Data-Entry-Work-05780ab37f469e97?fccid=f4ac86df0cdbb3ec&vjs=3\n",
      "https://in.indeed.com/rc/clk?jk=7810de8487011792&fccid=c6cdf6d37911b08b&vjs=3\n",
      "https://in.indeed.com/company/Amar-Ujala-Web-Services/jobs/Customer-Support-Executive-9d7f6de7110d685c?fccid=b9fc03789e624233&vjs=3\n",
      "https://in.indeed.com/company/CSD-Infotech-Pvt.-Ltd./jobs/Account-Executive-b424cff362bba34a?fccid=826bd2bf79da8ac2&vjs=3\n",
      "https://in.indeed.com/company/Expedien-eSolutions-Ltd./jobs/Personal-Assistant-0472e774fef7318a?fccid=7c1698eebe96da3b&vjs=3\n"
     ]
    }
   ],
   "source": [
    "data = browser.find_elements_by_xpath(\"//a[contains(@class, 'turnstileLink ')]\")\n",
    "for i in data:\n",
    "    print(i.get_attribute(\"href\"))"
   ]
  },
  {
   "cell_type": "code",
   "execution_count": 9,
   "metadata": {},
   "outputs": [],
   "source": [
    "url_max = url+\"&start=10000\"\n",
    "browser.get(url_max)"
   ]
  },
  {
   "cell_type": "code",
   "execution_count": 25,
   "metadata": {},
   "outputs": [],
   "source": [
    "count = browser.find_element_by_class_name(\"searchCount-a11y-contrast-color\")\n",
    "page_count = count.text\n",
    "page_count = page_count.replace(\" \", \"\")\n",
    "page_count = page_count.split(\"Page\")\n",
    "page_count = page_count[1].split(\"of\")\n",
    "page_count_int = int(page_count[0])"
   ]
  },
  {
   "cell_type": "code",
   "execution_count": 26,
   "metadata": {},
   "outputs": [
    {
     "data": {
      "text/plain": [
       "67"
      ]
     },
     "execution_count": 26,
     "metadata": {},
     "output_type": "execute_result"
    }
   ],
   "source": [
    "page_count_int"
   ]
  },
  {
   "cell_type": "code",
   "execution_count": 36,
   "metadata": {},
   "outputs": [],
   "source": [
    "data_page=[]\n",
    "for j in range(page_count_int+1):\n",
    "    data_page.append(url+\"&start=\"+str(j))"
   ]
  },
  {
   "cell_type": "code",
   "execution_count": 38,
   "metadata": {},
   "outputs": [
    {
     "ename": "WebDriverException",
     "evalue": "Message: chrome not reachable\n  (Session info: chrome=87.0.4280.66)\n",
     "output_type": "error",
     "traceback": [
      "\u001b[1;31m---------------------------------------------------------------------------\u001b[0m",
      "\u001b[1;31mWebDriverException\u001b[0m                        Traceback (most recent call last)",
      "\u001b[1;32m<ipython-input-38-f069c827fc25>\u001b[0m in \u001b[0;36m<module>\u001b[1;34m\u001b[0m\n\u001b[0;32m      1\u001b[0m \u001b[1;32mfor\u001b[0m \u001b[0mi\u001b[0m \u001b[1;32min\u001b[0m \u001b[0mdata_page\u001b[0m\u001b[1;33m:\u001b[0m\u001b[1;33m\u001b[0m\u001b[1;33m\u001b[0m\u001b[0m\n\u001b[1;32m----> 2\u001b[1;33m     \u001b[0mbrowser\u001b[0m\u001b[1;33m.\u001b[0m\u001b[0mget\u001b[0m\u001b[1;33m(\u001b[0m\u001b[0mi\u001b[0m\u001b[1;33m)\u001b[0m\u001b[1;33m\u001b[0m\u001b[1;33m\u001b[0m\u001b[0m\n\u001b[0m",
      "\u001b[1;32mD:\\Users\\dhruv\\Anaconda3\\lib\\site-packages\\selenium\\webdriver\\remote\\webdriver.py\u001b[0m in \u001b[0;36mget\u001b[1;34m(self, url)\u001b[0m\n\u001b[0;32m    331\u001b[0m         \u001b[0mLoads\u001b[0m \u001b[0ma\u001b[0m \u001b[0mweb\u001b[0m \u001b[0mpage\u001b[0m \u001b[1;32min\u001b[0m \u001b[0mthe\u001b[0m \u001b[0mcurrent\u001b[0m \u001b[0mbrowser\u001b[0m \u001b[0msession\u001b[0m\u001b[1;33m.\u001b[0m\u001b[1;33m\u001b[0m\u001b[1;33m\u001b[0m\u001b[0m\n\u001b[0;32m    332\u001b[0m         \"\"\"\n\u001b[1;32m--> 333\u001b[1;33m         \u001b[0mself\u001b[0m\u001b[1;33m.\u001b[0m\u001b[0mexecute\u001b[0m\u001b[1;33m(\u001b[0m\u001b[0mCommand\u001b[0m\u001b[1;33m.\u001b[0m\u001b[0mGET\u001b[0m\u001b[1;33m,\u001b[0m \u001b[1;33m{\u001b[0m\u001b[1;34m'url'\u001b[0m\u001b[1;33m:\u001b[0m \u001b[0murl\u001b[0m\u001b[1;33m}\u001b[0m\u001b[1;33m)\u001b[0m\u001b[1;33m\u001b[0m\u001b[1;33m\u001b[0m\u001b[0m\n\u001b[0m\u001b[0;32m    334\u001b[0m \u001b[1;33m\u001b[0m\u001b[0m\n\u001b[0;32m    335\u001b[0m     \u001b[1;33m@\u001b[0m\u001b[0mproperty\u001b[0m\u001b[1;33m\u001b[0m\u001b[1;33m\u001b[0m\u001b[0m\n",
      "\u001b[1;32mD:\\Users\\dhruv\\Anaconda3\\lib\\site-packages\\selenium\\webdriver\\remote\\webdriver.py\u001b[0m in \u001b[0;36mexecute\u001b[1;34m(self, driver_command, params)\u001b[0m\n\u001b[0;32m    319\u001b[0m         \u001b[0mresponse\u001b[0m \u001b[1;33m=\u001b[0m \u001b[0mself\u001b[0m\u001b[1;33m.\u001b[0m\u001b[0mcommand_executor\u001b[0m\u001b[1;33m.\u001b[0m\u001b[0mexecute\u001b[0m\u001b[1;33m(\u001b[0m\u001b[0mdriver_command\u001b[0m\u001b[1;33m,\u001b[0m \u001b[0mparams\u001b[0m\u001b[1;33m)\u001b[0m\u001b[1;33m\u001b[0m\u001b[1;33m\u001b[0m\u001b[0m\n\u001b[0;32m    320\u001b[0m         \u001b[1;32mif\u001b[0m \u001b[0mresponse\u001b[0m\u001b[1;33m:\u001b[0m\u001b[1;33m\u001b[0m\u001b[1;33m\u001b[0m\u001b[0m\n\u001b[1;32m--> 321\u001b[1;33m             \u001b[0mself\u001b[0m\u001b[1;33m.\u001b[0m\u001b[0merror_handler\u001b[0m\u001b[1;33m.\u001b[0m\u001b[0mcheck_response\u001b[0m\u001b[1;33m(\u001b[0m\u001b[0mresponse\u001b[0m\u001b[1;33m)\u001b[0m\u001b[1;33m\u001b[0m\u001b[1;33m\u001b[0m\u001b[0m\n\u001b[0m\u001b[0;32m    322\u001b[0m             response['value'] = self._unwrap_value(\n\u001b[0;32m    323\u001b[0m                 response.get('value', None))\n",
      "\u001b[1;32mD:\\Users\\dhruv\\Anaconda3\\lib\\site-packages\\selenium\\webdriver\\remote\\errorhandler.py\u001b[0m in \u001b[0;36mcheck_response\u001b[1;34m(self, response)\u001b[0m\n\u001b[0;32m    240\u001b[0m                 \u001b[0malert_text\u001b[0m \u001b[1;33m=\u001b[0m \u001b[0mvalue\u001b[0m\u001b[1;33m[\u001b[0m\u001b[1;34m'alert'\u001b[0m\u001b[1;33m]\u001b[0m\u001b[1;33m.\u001b[0m\u001b[0mget\u001b[0m\u001b[1;33m(\u001b[0m\u001b[1;34m'text'\u001b[0m\u001b[1;33m)\u001b[0m\u001b[1;33m\u001b[0m\u001b[1;33m\u001b[0m\u001b[0m\n\u001b[0;32m    241\u001b[0m             \u001b[1;32mraise\u001b[0m \u001b[0mexception_class\u001b[0m\u001b[1;33m(\u001b[0m\u001b[0mmessage\u001b[0m\u001b[1;33m,\u001b[0m \u001b[0mscreen\u001b[0m\u001b[1;33m,\u001b[0m \u001b[0mstacktrace\u001b[0m\u001b[1;33m,\u001b[0m \u001b[0malert_text\u001b[0m\u001b[1;33m)\u001b[0m\u001b[1;33m\u001b[0m\u001b[1;33m\u001b[0m\u001b[0m\n\u001b[1;32m--> 242\u001b[1;33m         \u001b[1;32mraise\u001b[0m \u001b[0mexception_class\u001b[0m\u001b[1;33m(\u001b[0m\u001b[0mmessage\u001b[0m\u001b[1;33m,\u001b[0m \u001b[0mscreen\u001b[0m\u001b[1;33m,\u001b[0m \u001b[0mstacktrace\u001b[0m\u001b[1;33m)\u001b[0m\u001b[1;33m\u001b[0m\u001b[1;33m\u001b[0m\u001b[0m\n\u001b[0m\u001b[0;32m    243\u001b[0m \u001b[1;33m\u001b[0m\u001b[0m\n\u001b[0;32m    244\u001b[0m     \u001b[1;32mdef\u001b[0m \u001b[0m_value_or_default\u001b[0m\u001b[1;33m(\u001b[0m\u001b[0mself\u001b[0m\u001b[1;33m,\u001b[0m \u001b[0mobj\u001b[0m\u001b[1;33m,\u001b[0m \u001b[0mkey\u001b[0m\u001b[1;33m,\u001b[0m \u001b[0mdefault\u001b[0m\u001b[1;33m)\u001b[0m\u001b[1;33m:\u001b[0m\u001b[1;33m\u001b[0m\u001b[1;33m\u001b[0m\u001b[0m\n",
      "\u001b[1;31mWebDriverException\u001b[0m: Message: chrome not reachable\n  (Session info: chrome=87.0.4280.66)\n"
     ]
    }
   ],
   "source": [
    "for i in data_page:\n",
    "    browser.get(i)"
   ]
  },
  {
   "cell_type": "code",
   "execution_count": null,
   "metadata": {},
   "outputs": [],
   "source": [
    "data = browser.find_elements_by_xpath(\"//a[contains(@class, 'turnstileLink ')]\")\n",
    "for i in data:\n",
    "    print(i.get_attribute(\"href\"))"
   ]
  },
  {
   "cell_type": "code",
   "execution_count": 40,
   "metadata": {},
   "outputs": [],
   "source": [
    "browser.get(\"https://in.indeed.com/pagead/clk?mo=r&ad=-6NYlbfkN0AKnhW53H2bw_lqhSHJF9Zwa8ts92YdnLT4SEeYo0P_xCXbsiGtxNkwMUzDxD6rbS5jORg3hycvvkCGhG6Pokx60xyFtWFDVspU0MXkjbtfVcNsbt8Cr3J-rc2SDLTvj_RljdEFlybDLcMEPD0W9kWa9rhq6CNIPFg0J0cnm4UARn5M4dmw368P0cBF7iYKQcWtN731EACWWDEsijfgXBUGZ8hqy3cU30P3QJuuWiIrLSwkZn_X0zh0uYrJ1W22o1pb3q5pmK4F3eWI3xevFSq2mY08gMVQ7YXxJbrJ27d-sGwZA7pucAhZ6WfdQIxKMbNXi0PRSO3unA3Q5Hs0xZ3ujToaJRJYYqwZHhSZNxtcfcaVCEBsOWoYvw39608oKBJnjOyrjJEL08ypughw4-kDriRLjbbSrRAYm4nYFiANmYEPPhkN3WnK2DeBYwsE1Fu8aPJ9kqicX3pV1vFLiNBz&p=0&fvj=1&vjs=3\")"
   ]
  },
  {
   "cell_type": "code",
   "execution_count": 42,
   "metadata": {},
   "outputs": [
    {
     "data": {
      "text/plain": [
       "'Model Maker'"
      ]
     },
     "execution_count": 42,
     "metadata": {},
     "output_type": "execute_result"
    }
   ],
   "source": [
    "job_name = browser.find_element_by_class_name(\"jobsearch-JobInfoHeader-title\")\n",
    "job_name.text"
   ]
  },
  {
   "cell_type": "code",
   "execution_count": 43,
   "metadata": {},
   "outputs": [
    {
     "data": {
      "text/plain": [
       "'BLC Projects Pvt Ltd\\n-\\nNoida, Uttar Pradesh'"
      ]
     },
     "execution_count": 43,
     "metadata": {},
     "output_type": "execute_result"
    }
   ],
   "source": [
    "job_name = browser.find_element_by_class_name(\"jobsearch-InlineCompanyRating\")\n",
    "job_name.text"
   ]
  },
  {
   "cell_type": "code",
   "execution_count": 44,
   "metadata": {},
   "outputs": [
    {
     "data": {
      "text/plain": [
       "'₹2,80,000 - ₹4,35,000 a year'"
      ]
     },
     "execution_count": 44,
     "metadata": {},
     "output_type": "execute_result"
    }
   ],
   "source": [
    "job_name = browser.find_element_by_class_name(\"jobsearch-JobMetadataHeader-item \")\n",
    "job_name.text"
   ]
  },
  {
   "cell_type": "code",
   "execution_count": 45,
   "metadata": {},
   "outputs": [
    {
     "data": {
      "text/plain": [
       "'Urgent hiring.\\n1. Candidate who can join within a week is applicable.\\n2. Candidate should be ready to work on projects out of town.\\n3. Candidate having experience of wood working, engraving, cladding work will be preferred.\\nJob Type: Full-time\\nSalary: ₹280,000.00 - ₹435,000.00 per year\\nSchedule:\\nDay shift\\nSupplemental Pay:\\nOvertime pay\\nPerformance bonus\\nExperience:\\nwork: 1 year (Preferred)\\ntotal work: 1 year (Preferred)\\nEducation:\\nSecondary(10th Pass) (Preferred)\\nBenefits:\\nProvident fund (PF)\\nFlexible work hours\\nIndustry:\\nArchitecture\\nWork Remotely:\\nNo'"
      ]
     },
     "execution_count": 45,
     "metadata": {},
     "output_type": "execute_result"
    }
   ],
   "source": [
    "job_name = browser.find_element_by_class_name(\"jobsearch-jobDescriptionText\")\n",
    "job_name.text"
   ]
  },
  {
   "cell_type": "code",
   "execution_count": null,
   "metadata": {},
   "outputs": [],
   "source": []
  }
 ],
 "metadata": {
  "kernelspec": {
   "display_name": "Python 3",
   "language": "python",
   "name": "python3"
  },
  "language_info": {
   "codemirror_mode": {
    "name": "ipython",
    "version": 3
   },
   "file_extension": ".py",
   "mimetype": "text/x-python",
   "name": "python",
   "nbconvert_exporter": "python",
   "pygments_lexer": "ipython3",
   "version": "3.7.4"
  }
 },
 "nbformat": 4,
 "nbformat_minor": 2
}
