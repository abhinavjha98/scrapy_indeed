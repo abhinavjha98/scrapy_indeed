{
 "cells": [
  {
   "cell_type": "code",
   "execution_count": 1,
   "metadata": {},
   "outputs": [],
   "source": [
    "import pandas as pd\n",
    "import re\n",
    "import requests\n",
    "from selenium.common.exceptions import NoSuchElementException\n",
    "from bs4 import BeautifulSoup\n",
    "from datetime import date, timedelta, datetime\n",
    "from IPython.core.display import clear_output\n",
    "from random import randint\n",
    "from requests import get\n",
    "from selenium import webdriver\n",
    "from selenium.webdriver.common.action_chains import ActionChains\n",
    "from time import sleep\n",
    "from time import time\n",
    "start_time = time()\n",
    "import urllib.request\n",
    "from warnings import warn\n",
    "import math"
   ]
  },
  {
   "cell_type": "code",
   "execution_count": 12,
   "metadata": {},
   "outputs": [],
   "source": [
    "url = \"https://in.indeed.com/jobs?q=&l=Noida%2C+Uttar+Pradesh\"\n",
    "browser = webdriver.Chrome(\"chromedriver.exe\")\n",
    "browser.get(url)\n",
    "browsers = webdriver.Chrome(\"chromedriver.exe\")\n",
    "browsers.get(url)"
   ]
  },
  {
   "cell_type": "code",
   "execution_count": 4,
   "metadata": {},
   "outputs": [
    {
     "name": "stdout",
     "output_type": "stream",
     "text": [
      "https://in.indeed.com/pagead/clk?mo=r&ad=-6NYlbfkN0Dh7cz7Peu61o2Pgny-PLAD6yuaboqoy-ScfnNWv0cx_3JpPFt74fswWayfQSxcE5y1vmlGOAUtqoHdPtxeeGpnIabZaEHQ-i1wMBBMkfZBT_gn9EqljcotYMllkCLHyyeYbPWFEedPdvYFT6VwxFi4CYfTYErBRGfSM1MGziAuN7Abp0Je3NrXim8DWd8IiM7K6AIrsCmZm8LIID5ODz_hk4OxpBdDJyne3YIY_WbfpJxms5trJvziEPm8sdCGB14NOKkO3ICr5WnBX-TzExRrowat-b7mFbUYQjsdFkdlBATSKRO61YV_Zu0XVUfZeUOu2qu_InnwH05wX4Jrtw0wVs75GoW7HIW0KQx9z5GPrBbBpbqUTvL4_t0I66-HPIrnce9grbs5JWUp70L11R7_HDT8Rm-d50JTJpTDaGOKBVLWcXqF3b3rTBEM-sLdcPf7QAQxKy-yZrHo5REwl5th&p=0&fvj=1&vjs=3\n",
      "https://in.indeed.com/pagead/clk?mo=r&ad=-6NYlbfkN0DTRuLbefgWBnKcd1KIO7gVyrqUwu_49q-8ZblDLY4hTGcJow8WDC6im5e0iST_BNzx1aKGrAG4IoVroZjPwbWqaRJ2-fEGXoK3FEt5__4FJfnO6BtrF_--AjukBBXAyYcie5wSzng7BoLJtbyH7R9OH4Uz2qSsaJW67j4_9NHabRS7KDH_9tm1a90tR0xOdOuda-C57GnAYkect-qitmHSQlsBwvsHWg4Zw7d7Kgv_9Bo0XloLY1h7Y3HxjDzmX07xILgdN1E4N87fCGdxV-yC-Yp1OrwiyipPZk6R6Q4urZhC70hpq4V1er_hn1T2RDOjHV20rmPkuwHy3yvtOmbuo7HYbu2yFw38v_FeHJuVCOBmcSZk8lg3Cz40Cn-HZKtcKKzkJ_kct4_Jfo4C_xeTpLJivM59kxM7nj93RdWGpp-ShZwX5QonKDpoP-cqTyDOi7P7QAVaU-VXeHOlJ6zA&p=1&fvj=1&vjs=3\n",
      "https://in.indeed.com/company/Conax-system-pvt-ltd/jobs/Customer-Service-Back-Office-Executive-4c64d9da68c8fdfe?fccid=59cdbe91c56624c8&vjs=3\n",
      "https://in.indeed.com/company/ArtGrami-Creative-Marketing-Private-Limited/jobs/Back-Office-Executive-ce667cc09ae5e002?fccid=273a043af66f567e&vjs=3\n",
      "https://in.indeed.com/company/Feel-the-Floors/jobs/Need-Backend-94f6c72792b0de5b?fccid=a41b3cbd6a19acad&vjs=3\n",
      "https://in.indeed.com/company/SphereGen-Technologies-Pvt-Ltd/jobs/Fresher-Office-Assistant-93a977f6369d17a9?fccid=45678c9bf2452d1d&vjs=3\n",
      "https://in.indeed.com/company/Hobb-International-Pvt.-Ltd./jobs/Amazon-Days-Working-Verification-Work-b4119e0a5b9773fb?fccid=a60ee3e4c756cd05&vjs=3\n",
      "https://in.indeed.com/company/DG-INTERNATIONAL-LLP/jobs/Amazon-Flipkart-Days-Working-Verification-Work-a207d26aeb9bf91b?fccid=906d77815ae8c54f&vjs=3\n",
      "https://in.indeed.com/company/SISGAIN/jobs/Network-Administrator-166c7a16726a0c4f?fccid=6aeda57ffaf3efbc&vjs=3\n",
      "https://in.indeed.com/company/OPR-Technologies-Pvt-Ltd/jobs/Account-Executive-c958696b3150dc96?fccid=a627108b781da72a&vjs=3\n",
      "https://in.indeed.com/company/Arkis-Lightings-Pvt.-Ltd./jobs/Store-Incharge-398c9afd0669f89d?fccid=51ac262ba03abb27&vjs=3\n",
      "https://in.indeed.com/company/Mr./jobs/Account-Documentation-Executive-2ada335364a1567f?fccid=fc22310470a4953b&vjs=3\n",
      "https://in.indeed.com/rc/clk?jk=202ce0925ed713fb&fccid=c6cdf6d37911b08b&vjs=3\n",
      "https://in.indeed.com/rc/clk?jk=11875bb461d2e392&fccid=71479c0791af0b92&vjs=3\n",
      "https://in.indeed.com/company/Currant-Fielding-Solutions/jobs/Research-Associate-b3802b34032cc2c5?fccid=5c57f2ee74bea2b0&vjs=3\n"
     ]
    }
   ],
   "source": [
    "data = browser.find_elements_by_xpath(\"//a[contains(@class, 'turnstileLink ')]\")\n",
    "for i in data:\n",
    "    print(i.get_attribute(\"href\"))"
   ]
  },
  {
   "cell_type": "code",
   "execution_count": 5,
   "metadata": {},
   "outputs": [],
   "source": [
    "url_max = url+\"&start=10000\"\n",
    "browser.get(url_max)"
   ]
  },
  {
   "cell_type": "code",
   "execution_count": 6,
   "metadata": {},
   "outputs": [],
   "source": [
    "count = browser.find_element_by_class_name(\"searchCount-a11y-contrast-color\")\n",
    "page_count = count.text\n",
    "page_count = page_count.replace(\" \", \"\")\n",
    "page_count = page_count.split(\"Page\")\n",
    "page_count = page_count[1].split(\"of\")\n",
    "page_count_int = int(page_count[0])"
   ]
  },
  {
   "cell_type": "code",
   "execution_count": 7,
   "metadata": {},
   "outputs": [
    {
     "data": {
      "text/plain": [
       "67"
      ]
     },
     "execution_count": 7,
     "metadata": {},
     "output_type": "execute_result"
    }
   ],
   "source": [
    "page_count_int"
   ]
  },
  {
   "cell_type": "code",
   "execution_count": 8,
   "metadata": {},
   "outputs": [],
   "source": [
    "data_page=[]\n",
    "for j in range(page_count_int+1):\n",
    "    data_page.append(url+\"&start=\"+str(j))"
   ]
  },
  {
   "cell_type": "code",
   "execution_count": 9,
   "metadata": {},
   "outputs": [],
   "source": [
    "# for i in data_page:\n",
    "#     browser.get(i)"
   ]
  },
  {
   "cell_type": "code",
   "execution_count": 10,
   "metadata": {},
   "outputs": [
    {
     "name": "stdout",
     "output_type": "stream",
     "text": [
      "https://in.indeed.com/company/Ziyyara-Edutech-Priavte-Limited/jobs/Math-Tutor-04059308b5933657?fccid=7edd858b712561f0&vjs=3\n",
      "https://in.indeed.com/rc/clk?jk=dcd2bdafb9bd3c47&fccid=779b71101fab42b5&vjs=3\n",
      "https://in.indeed.com/company/SOH-EDUCATION-PVT-LTD/jobs/Admission-Counsellor-ba9bc14724a289b6?fccid=f7c165ad000da97e&vjs=3\n",
      "https://in.indeed.com/company/Agranika-Techlabs-LLP/jobs/SAP-Implementation-Administrator-44c0bb6a6ef6e351?fccid=8600683e0a96ebcd&vjs=3\n",
      "https://in.indeed.com/company/Amar-Ujala-Web-Services/jobs/Academic-Counselor-Telecaller-1cd410a37ed4c1fe?fccid=b9fc03789e624233&vjs=3\n",
      "https://in.indeed.com/company/Professional-Manpower-Services/jobs/Shipping-Administrator-49287ab7d27af45b?fccid=dd616958bd9ddc12&vjs=3\n",
      "https://in.indeed.com/company/BizBrolly-Solution-Pvt.-Ltd/jobs/Online-Bidder-4613b76f95cf87c8?fccid=cf5691dbb872c186&vjs=3\n",
      "https://in.indeed.com/rc/clk?jk=aaec1b65a5d964dc&fccid=7e4ccce43d9fdc30&vjs=3\n",
      "https://in.indeed.com/rc/clk?jk=f8381e60779722e6&fccid=fdd8787d3dc18c3e&vjs=3\n",
      "https://in.indeed.com/company/Tuckeat-LLC/jobs/Stock-Broker-Nyse-Experience-8d4824a3abcd9440?fccid=e9a621d2e8768a0e&vjs=3\n",
      "https://in.indeed.com/rc/clk?jk=1f56a6926690f125&fccid=2df6a1e69a70a1e7&vjs=3\n",
      "https://in.indeed.com/company/Futurebox-pvt-limited/jobs/Purchase-Executive-5d15e0593e83163a?fccid=276fddaf672678d8&vjs=3\n",
      "https://in.indeed.com/rc/clk?jk=a44d817795371518&fccid=f511d6a4d4b04eb0&vjs=3\n",
      "https://in.indeed.com/company/eSearch-Logix-Technologies-Pvt.-Ltd./jobs/Chat-Support-Executive-4e99a91c73e00ec9?fccid=b25ff6baa984ff59&vjs=3\n",
      "https://in.indeed.com/company/Kalco--Alu-System-Pvt.-Ltd./jobs/Data-Entry-Operator-c210b21f593cd86c?fccid=e697181646321389&vjs=3\n"
     ]
    }
   ],
   "source": [
    "data = browser.find_elements_by_xpath(\"//a[contains(@class, 'turnstileLink ')]\")\n",
    "for i in data:\n",
    "    print(i.get_attribute(\"href\"))"
   ]
  },
  {
   "cell_type": "code",
   "execution_count": 11,
   "metadata": {},
   "outputs": [],
   "source": [
    "browser.get(\"https://in.indeed.com/pagead/clk?mo=r&ad=-6NYlbfkN0AKnhW53H2bw_lqhSHJF9Zwa8ts92YdnLT4SEeYo0P_xCXbsiGtxNkwMUzDxD6rbS5jORg3hycvvkCGhG6Pokx60xyFtWFDVspU0MXkjbtfVcNsbt8Cr3J-rc2SDLTvj_RljdEFlybDLcMEPD0W9kWa9rhq6CNIPFg0J0cnm4UARn5M4dmw368P0cBF7iYKQcWtN731EACWWDEsijfgXBUGZ8hqy3cU30P3QJuuWiIrLSwkZn_X0zh0uYrJ1W22o1pb3q5pmK4F3eWI3xevFSq2mY08gMVQ7YXxJbrJ27d-sGwZA7pucAhZ6WfdQIxKMbNXi0PRSO3unA3Q5Hs0xZ3ujToaJRJYYqwZHhSZNxtcfcaVCEBsOWoYvw39608oKBJnjOyrjJEL08ypughw4-kDriRLjbbSrRAYm4nYFiANmYEPPhkN3WnK2DeBYwsE1Fu8aPJ9kqicX3pV1vFLiNBz&p=0&fvj=1&vjs=3\")"
   ]
  },
  {
   "cell_type": "code",
   "execution_count": 12,
   "metadata": {},
   "outputs": [
    {
     "data": {
      "text/plain": [
       "'Model Maker'"
      ]
     },
     "execution_count": 12,
     "metadata": {},
     "output_type": "execute_result"
    }
   ],
   "source": [
    "job_name = browser.find_element_by_class_name(\"jobsearch-JobInfoHeader-title\")\n",
    "job_name.text"
   ]
  },
  {
   "cell_type": "code",
   "execution_count": 13,
   "metadata": {},
   "outputs": [
    {
     "data": {
      "text/plain": [
       "'BLC Projects Pvt Ltd\\n-\\nNoida, Uttar Pradesh'"
      ]
     },
     "execution_count": 13,
     "metadata": {},
     "output_type": "execute_result"
    }
   ],
   "source": [
    "job_name = browser.find_element_by_class_name(\"jobsearch-InlineCompanyRating\")\n",
    "job_name.text"
   ]
  },
  {
   "cell_type": "code",
   "execution_count": 14,
   "metadata": {},
   "outputs": [
    {
     "data": {
      "text/plain": [
       "'₹2,80,000 - ₹4,35,000 a year'"
      ]
     },
     "execution_count": 14,
     "metadata": {},
     "output_type": "execute_result"
    }
   ],
   "source": [
    "job_name = browser.find_element_by_class_name(\"jobsearch-JobMetadataHeader-item \")\n",
    "job_name.text"
   ]
  },
  {
   "cell_type": "code",
   "execution_count": 15,
   "metadata": {},
   "outputs": [
    {
     "data": {
      "text/plain": [
       "'Urgent hiring.\\n1. Candidate who can join within a week is applicable.\\n2. Candidate should be ready to work on projects out of town.\\n3. Candidate having experience of wood working, engraving, cladding work will be preferred.\\nJob Type: Full-time\\nSalary: ₹280,000.00 - ₹435,000.00 per year\\nSchedule:\\nDay shift\\nSupplemental Pay:\\nOvertime pay\\nPerformance bonus\\nExperience:\\nwork: 1 year (Preferred)\\ntotal work: 1 year (Preferred)\\nEducation:\\nSecondary(10th Pass) (Preferred)\\nBenefits:\\nProvident fund (PF)\\nFlexible work hours\\nIndustry:\\nArchitecture\\nWork Remotely:\\nNo'"
      ]
     },
     "execution_count": 15,
     "metadata": {},
     "output_type": "execute_result"
    }
   ],
   "source": [
    "job_name = browser.find_element_by_class_name(\"jobsearch-jobDescriptionText\")\n",
    "job_name.text"
   ]
  },
  {
   "cell_type": "code",
   "execution_count": 19,
   "metadata": {},
   "outputs": [],
   "source": [
    "job_name = job_name.text.replace('\\n','')"
   ]
  },
  {
   "cell_type": "code",
   "execution_count": 21,
   "metadata": {},
   "outputs": [
    {
     "data": {
      "text/plain": [
       "'Urgent hiring.1. Candidate who can join within a week is applicable.2. Candidate should be ready to work on projects out of town.3. Candidate having experience of wood working, engraving, cladding work will be preferred.Job Type: Full-timeSalary: ₹280,000.00 - ₹435,000.00 per yearSchedule:Day shiftSupplemental Pay:Overtime payPerformance bonusExperience:work: 1 year (Preferred)total work: 1 year (Preferred)Education:Secondary(10th Pass) (Preferred)Benefits:Provident fund (PF)Flexible work hoursIndustry:ArchitectureWork Remotely:No'"
      ]
     },
     "execution_count": 21,
     "metadata": {},
     "output_type": "execute_result"
    }
   ],
   "source": [
    "job_name"
   ]
  },
  {
   "cell_type": "code",
   "execution_count": 26,
   "metadata": {
    "scrolled": true
   },
   "outputs": [],
   "source": [
    "title = []\n",
    "company_name = []\n",
    "description = []\n",
    "salary = []\n",
    "for i in data_page:\n",
    "\n",
    "    browser.get(i)\n",
    "    data = browser.find_elements_by_xpath(\"//a[contains(@class, 'turnstileLink ')]\")\n",
    "    for j in data:\n",
    "        browsers.get(j.get_attribute(\"href\"))\n",
    "        try:\n",
    "            job_name = browsers.find_element_by_class_name(\"jobsearch-JobInfoHeader-title\")\n",
    "            title.append(job_name.text)\n",
    "        except NoSuchElementException:\n",
    "            title.append(\"\")\n",
    "        try:\n",
    "            job_names = browsers.find_element_by_class_name(\"jobsearch-InlineCompanyRating\")\n",
    "            company_name.append(job_names.text)\n",
    "        except NoSuchElementException:\n",
    "            company_name.append(\"\")\n",
    "        try:    \n",
    "            job_name = browsers.find_element_by_class_name(\"jobsearch-JobMetadataHeader-item \")\n",
    "            salary.append(job_name.text)\n",
    "        except NoSuchElementException:\n",
    "            salary.append(\"\")\n",
    "        try:    \n",
    "            job_name = browsers.find_element_by_class_name(\"jobsearch-jobDescriptionText\")\n",
    "            job_name = job_name.text.replace('\\n','')\n",
    "            description.append(job_name)\n",
    "        except NoSuchElementException:\n",
    "            description.append(\"\")\n",
    "    break"
   ]
  },
  {
   "cell_type": "code",
   "execution_count": 27,
   "metadata": {},
   "outputs": [
    {
     "data": {
      "text/plain": [
       "(['Hiring For Back Office Executive',\n",
       "  'Urgent Need For Backend / Back Office Executive',\n",
       "  'Customer Service & Back Office Executive',\n",
       "  'AMAZON 5 DAYS WORKING VERIFICATION WORK',\n",
       "  'Freshers Office Assistant',\n",
       "  'AMAZON/FLIPKART 5 DAYS WORKING VERIFICATION WORK',\n",
       "  'DATA ENTRY OPERATOR FOR FRESHERS / EXPERIENCE',\n",
       "  'Personal assistant / cashier',\n",
       "  'Front Desk Receptionist',\n",
       "  'Store Incharge',\n",
       "  'Network Administrator',\n",
       "  'Research Associate',\n",
       "  'Data Entry Clerk',\n",
       "  'Work from Office opportunity for Education Counsellor',\n",
       "  'Area Service Incharge'],\n",
       " ['ArtGrami Creative Marketing Private Limited\\n-\\nNoida, Uttar Pradesh',\n",
       "  'Feel the Floors\\n-\\nNoida, Uttar Pradesh',\n",
       "  'C.S Pvt Ltd\\n-\\nNoida, Uttar Pradesh',\n",
       "  'HOBB International Pvt. Ltd.\\n-\\nConnaught Place, Delhi, Delhi',\n",
       "  'Spheregen Technologies Pvt Ltd\\n-\\nNoida, Uttar Pradesh',\n",
       "  'DG INTERNATIONAL LLP\\n-\\nNew Delhi, Delhi',\n",
       "  'InknowTech Pvt. Ltd\\n-\\nNoida, Uttar Pradesh',\n",
       "  '3s buildcon\\n-\\nNoida, Uttar Pradesh',\n",
       "  'Skyhawk kinetic\\n-\\nNoida, Uttar Pradesh',\n",
       "  'Arkis Lighting Pvt. Ltd.\\n-\\nNoida, Uttar Pradesh',\n",
       "  'SISGAIN\\n-\\nNoida, Uttar Pradesh',\n",
       "  'Currant Research Aesthetics\\n-\\nNoida, Uttar Pradesh',\n",
       "  'Shajuky Exports\\n-\\nNoida, Uttar Pradesh',\n",
       "  'Edukyu Pvt Ltd\\n-\\nNoida, Uttar Pradesh',\n",
       "  'Lybley India Pvt. Ltd\\n-\\nNoida, Uttar Pradesh'],\n",
       " [\"Full Job DescriptionFull Job DescriptionFOR INTERVIEW APPOINTMENTHR Rajat (7O4239811O)Full Job DescriptionJob SummaryWe are looking for Data Entry Operator (DEO),Back Office Executive Maintain Data on our google drive applications (documents, sheets, forms) within the organization.Responsibilities and DutiesReview and verify the entries.Give the regular Detail of business.Transfer data from PDF formats in system.Maintain the records Confidential.Required Experience and QualificationsAny Diploma/Degree 12th with good typing skills.Knowledge of Internet Browsing.Age - 18 To 28 ** Yrskills : - Good communication skills and pleasing behavior.BenefitsESI and PF.No TargetFixed ShiftParking FreeIncentivesFreshers Welcome.Job Types: Full-time, Fresher, Walk-InSalary: ₹ 14,244.00 - ₹ 28,532.00 per monthSchedule:Day shiftMonday to FridaySupplemental Pay:Overtime payPerformance bonusYearly bonusExperience:work: 1 year (Preferred)total work: 1 year (Preferred)Education:Bachelor's (Preferred)Typing Speed:25-50 words per minute (Preferred)Benefits:Health insuranceProvident fund (PF)Company Cab / Shuttle serviceMeal card / Food couponsPhone / Internet reimbursementShift allowanceSelection rounds:HR InterviewTechnical InterviewIndustry:Customer ServiceJob Types: Full-time, Fresher, Walk-InSalary: ₹14,244.00 - ₹28,532.00 per monthSchedule:Day shiftSupplemental Pay:Yearly bonusExperience:work: 1 year (Preferred)total work: 1 year (Preferred)Education:Bachelor's (Preferred)Typing Speed:25-50 words per minute (Preferred)Benefits:Health insuranceProvident fund (PF)Selection rounds:HR InterviewTechnical InterviewIndustry:Customer ServiceWork Remotely:Yes, temporarily due to COVID-19\",\n",
       "  \"Full Job DescriptionFull Job DescriptionFOR INTERVIEW APPOINTMENTHR Rajat (7O4239811O)Full Job DescriptionJob SummaryWe are looking for Data Entry Operator (DEO),Back Office Executive Maintain Data on our google drive applications (documents, sheets, forms) within the organization.Responsibilities and DutiesReview and verify the entries.Give the regular Detail of business.Transfer data from PDF formats in system.Maintain the records Confidential.Required Experience and QualificationsAny Diploma/Degree 12th with good typing skills.Knowledge of Internet Browsing.Age - 18 To 28 ** Yrskills : - Good communication skills and pleasing behavior.BenefitsESI and PF.No TargetFixed ShiftParking FreeIncentivesFreshers Welcome.Job Types: Full-time, Fresher, Walk-InSalary: ₹14,344.00 - ₹28,768.00 per monthSchedule:Day shiftMonday to FridaySupplemental Pay:Overtime payPerformance bonusYearly bonusExperience:work: 1 year (Preferred)total work: 1 year (Preferred)Education:Bachelor's (Preferred)Typing Speed:25-50 words per minute (Preferred)Benefits:Health insuranceProvident fund (PF)Company Cab / Shuttle serviceMeal card / Food couponsPhone / Internet reimbursementShift allowanceSelection rounds:HR InterviewTechnical InterviewIndustry:Customer ServiceJob Types: Full-time, Fresher, Walk-InSalary: ₹14,334.00 - ₹28,768.00 per monthBenefits:Health insuranceSchedule:Day shiftSupplemental Pay:Yearly bonusExperience:work: 1 year (Preferred)total work: 1 year (Preferred)Education:Bachelor's (Preferred)Typing Speed:25-50 words per minute (Preferred)Selection rounds:HR InterviewTechnical InterviewIndustry:Customer ServiceWork Remotely:Yes, temporarily due to COVID-19\",\n",
       "  \"We are looking for Data entry Operator who can excellently maintain all the data for our company and handle customer Service, You will be handed with all our company's data and your job will be to maintain the records You will be maintaining data records and doing data collection and handling customers politelyRequired Skills: .Basic Computer Knowledge.Good Communications in HIndi or Average in EnglishKnowledge of Internet Browsing.Fresher Experienced both can applySalary is no bar for right candidates.Job Type: Full-timeSalary: ₹14,500.00 - ₹22,000.00 per monthSchedule:Day shiftEvening shiftFlexible shiftMonday to FridayNight shiftSupplemental Pay:Performance bonusExperience:work: 1 year (Preferred)total work: 1 year (Preferred)Education:Bachelor's (Preferred)Typing Speed:25-50 words per minute (Preferred)Work Remotely:Yes, temporarily due to COVID-19Speak with the employer+91 8700007962\",\n",
       "  \"Profile- Customer care ExecutiveAge limit 18yrs. to 30yrs.Location : -All DelhiNCRContact-82-18817685Day Shift.+ Night ShiftFresher & experience required ).Job summarySetting up customer accounts and provide relevant information to them.Follow the procedure, guidelines provided and implement it while troubleshooting queries.Excellent Opportunity for you to work with India's Leading Call Centers*Responsibilities and Duties:To handle the Customer Queries Via Call.To Provide the Information related to Product and services to the customer.To answer incoming calls and respond to customer's emails.To Maintain and record the Interaction with the customer.Fresher can applyJob Types: Full-time, Fresher, Walk-InSalary: ₹11,453.00 - ₹26,755.00 per monthSchedule:Day shiftMorning shiftSupplemental Pay:Performance bonusExperience:Fresher: 1 year (Preferred)Education:Higher Secondary(12th Pass) (Preferred)Selection rounds:HR InterviewWork Remotely:Yes, occasionally\",\n",
       "  'We are hiring for freshers office assistantCall Me Tanisha : - 9555802855Salary : - ₹ 16,200.00 - ₹ 33,000.00 per monthOverseeing clerical tasks, such as sorting and sending mailKeeping an inventory of office supplies and ordering new materials as neededMaintaining filesWelcoming visitors to your officeAnswering phone callsTaking and delivering messagesEnsuring the office runs smoothlyScheduling meetings and sending meeting invites to attendeesPreparing attendance and expense sheets.Roles & Responsibility :Provides Supports to the clients with Proper CommunicationMaintain the work timetable of officeManage the Billing cycle of ClientsInterested candidates apply now immediately.Job Type: Full-timeExperience:Microsoft Office: 1 year (Preferred)office: 1 year (Preferred)total work: 1 year (Preferred)Education:Higher Secondary(12th Pass) (Preferred)Typing Speed:Less than 25 words per minute (Preferred)',\n",
       "  \"Profile- Customer care ExecutiveAge limit 18yrs. to 30yrs.Location : -All DelhiNCRContact- 9761-5.92437Day Shift.+ Night ShiftFresher & experience required ).Job summarySetting up customer accounts and provide relevant information to them.Follow the procedure, guidelines provided and implement it while troubleshooting queries.Excellent Opportunity for you to work with India's Leading Call Centers*Responsibilities and Duties:To handle the Customer Queries Via Call.To Provide the Information related to Product and services to the customer.To answer incoming calls and respond to customer's emails.To Maintain and record the Interaction with the customer.Fresher can applyJob Types: Full-time, Fresher, Walk-InSalary: ₹11,434.00 - ₹26,756.00 per monthSchedule:Day shiftMorning shiftSupplemental Pay:Performance bonusExperience:Fresher: 1 year (Preferred)Education:Higher Secondary(12th Pass) (Preferred)Selection rounds:HR InterviewWork Remotely:Yes, occasionally\",\n",
       "  \"FOR INTERVIEW APPOINTMENTHR Rajat (7O4239811O)Full Job DescriptionJob SummaryWe are looking for Data Entry Operator (DEO),Back Office Executive Maintain Data on our google drive applications (documents, sheets, forms) within the organization.Responsibilities and DutiesReview and verify the entries.Give the regular Detail of business.Transfer data from PDF formats in system.Maintain the records Confidential.Required Experience and QualificationsAny Diploma/Degree 12th with good typing skills.Knowledge of Internet Browsing.Age - 18 To 28 ** Yrskills : - Good communication skills and pleasing behavior.BenefitsESI and PF.No TargetFixed ShiftParking FreeIncentivesFreshers Welcome.Job Types: Full-time, Fresher, Walk-InSalary: ₹ 11,334.00 - ₹ 27,424.00 per monthdata entry: 1 year (Preferred)total work: 1 year (Preferred)MS Office: 1 year (Preferred)Education:Bachelor's (Preferred)Typing Speed:Less than 25 words per minute (Preferred)Work Remotely:Yes, alwaysJob Types: Full-time, Fresher, Walk-InSalary: ₹11,334.00 - ₹27,424.00 per monthBenefits:Health insuranceSchedule:Day shiftSupplemental Pay:Yearly bonusExperience:data entry: 1 year (Preferred)total work: 1 year (Preferred)MS Office: 1 year (Preferred)Education:Bachelor's (Preferred)Typing Speed:Less than 25 words per minute (Preferred)Shift:Yes - Day ShiftSelection rounds:HR InterviewTechnical InterviewIndustry:Customer Service\",\n",
       "  'Willing to relocate at Dubai.Reporting to senior management and performing secretarial and administrative duties.Typing, formatting, and editing reports, documents, and presentations.Entering data, maintaining databases, and keeping records.Liaising with internal departments, answering calls, and making travel arrangements.Managing internal and external correspondence on behalf of senior management.Scheduling appointments, maintaining an events calendar, and sending reminders.Copying, scanning, and faxing documents, as well as taking notes.Preparing facilities for scheduled events and arranging refreshments, if required.Ordering office supplies and replacements, as well as managing mail and courier services.Observing best business practices and etiquetteJob Types: Full-time, Walk-InSalary: ₹27,000.00 - ₹32,000.00 per monthExperience:total work: 1 year (Preferred)personal assistant: 1 year (Preferred)Education:Secondary(10th Pass) (Preferred)Language:English (Preferred)Typing Speed:Less than 25 words per minute (Preferred)',\n",
       "  'We are looking for a Receptionist to manage our front desk on a daily basis and to perform a variety of administrative and clerical tasks.ResponsibilitiesGreet and welcome guests as soon as they arrive at the officeDirect visitors to the appropriate person and officeAnswer, screen and forward incoming phone callsEnsure reception area is tidy and presentable, with all necessary stationery and material (e.g. pens, forms and brochures)Provide basic and accurate information in-person and via phone/emailReceive, sort and distribute daily mail/deliveriesMaintain office security by following safety procedures and controlling access via the reception desk (monitor logbook, issue visitor badges)Order front office supplies and keep inventory of stockUpdate calendars and schedule meetingsArrange travel and accommodations, and prepare vouchersKeep updated records of office expenses and costsPerform other clerical receptionist duties such as filing, photocopying, transcribing and faxingJob Type: Full-timeSalary: ₹12,000.00 - ₹20,000.00 per monthSchedule:Day shiftMorning shiftExperience:Microsoft Office: 1 year (Preferred)total work: 1 year (Preferred)office administration: 1 year (Preferred)Front desk - Receptionist: 1 year (Preferred)Typing Speed:Less than 25 words per minute (Preferred)Work Remotely:Yes, always',\n",
       "  'Roles and Responsibilities:· Manage Inventory Requisition, Purchase Orders Receipts, Materials Received Register (MRR), Storage Dispatch, and Inventory Control.· Executing all the Day-to-Day Stores Function as per the SOP (Standard Operating Procedure)· Maintain all reports individually.· Maintaining the proper Method of stock issue maintaining the various levels of stock.· Overall responsibility for all stores, dispatch purchase functions.· Manage and trained store staff.· Ensure that the store is kept clean and organized.· Maintain and match store data as per our physical and computerized record & regular update.· Organize all materials in-store and well managedDesired Candidate Profile:· Qualifications: Any Graduate (Mandatory)· Experience Required: Minimum 2 yearsExpected Start Date: 1/12/2020Job Type: Full-timeSalary: ₹10,000.00 - ₹15,000.00 per monthSchedule:Day shiftExperience:work: 2 years (Preferred)total work: 2 years (Preferred)Education:Diploma (Preferred)Work Remotely:No',\n",
       "  \"Hello ,We are looking for a Network Administrator to maintain a reliable, secure and efficient data communications network. The ideal candidate will be able to deploy, configure, maintain and monitor all active network equipment in order to ensure smooth network operation.Walk in date: 01- Dec,2020 to 05- Dec,2020Location: C-109, Noida Sec -2 , Nearest Metro Station Sector 15.ResponsibilitiesFully support, configure, maintain and upgrade corporate customers networks and in house serversInstall and integrate new server hardware and applicationsKeep an eye out for needed updatesSupport and administer third-party applicationsEnsure network security and connectivityMonitor network performance (availability, utilization, throughput, goodput, and latency) and test for weaknessesSet up user accounts, permissions and passwordsResolve problems reported by end userDefine network policies and proceduresSpecify system requirements and design solutionsResearch and make recommendations on server system administrationRequirementsProven experience in a network administrator roleHands on experience in networking, routing and switchingExcellent knowledge of best practices around management, control, and monitoring of server infrastructureExperience with firewalls, Internet VPNs remote implementation, troubleshooting, and problem resolution is desiredAbility to set up and configure server hardwareFamiliarity with backup and recovery software and methodologiesGreat at organizing, prioritizing and multitaskingJuniper, Cisco, CWNA or BCNE trainingBSc degree in Computer Science or related fieldRegardsNandini SoniSr. HR ExecutiveJob Type: Walk-InSalary: ₹15,000.00 - ₹20,000.00 per monthSchedule:Morning shiftExperience:work: 2 years (Preferred)Network Admin: 1 year (Required)Network Administration: 1 year (Preferred)Education:Master's (Preferred)Work Remotely:NoSpeak with the employer+91 8744888530\",\n",
       "  \"Research Associate in Primary ResearchNeeds to have international calling experience.Needs to flexible with night shift.Permanent work from home.Saturday and Sunday fixed off.Job Type: Full-timeSalary: ₹19,000.00 - ₹20,000.00 per monthSchedule:Day shiftEvening shiftMorning shiftNight shiftSupplemental Pay:Performance bonusExperience:International Calling: 1 year (Preferred)Education:Bachelor's (Preferred)Work Remotely:Yes, always\",\n",
       "  'Entering customer and account data from source documents within time limits. Compiling, verifying accuracy and sorting information to prepare source data for computer entry. Reviewing data for deficiencies or errors, correcting any incompatibilities and checking output.Job Types: Full-time, Walk-InSalary: ₹11,500.00 - ₹13,500.00 per monthBenefits:Health insurancePaid sick timeSchedule:Day shiftSupplemental Pay:Overtime payPerformance bonusYearly bonusExperience:excel: 5 years (Required)total work: 4 years (Required)MS Office: 5 years (Required)Education:Diploma (Preferred)Location:Noida, Uttar Pradesh (Preferred)Language:English (Required)Typing Speed:25-50 words per minute (Required)Work Remotely:No',\n",
       "  '\"Action breeds confidence and courage.If you want to stand out, don\\'t sit at home and think. Get out and get busy.\" - Dale Carnegie. Most people out there are unaware of their need for their personality and career development trainings and are not able to identify the perfect suited trainers for fulfilling their skill requirement. We have emerged as a team to cater to such needs aiming towards bridging the gap between trainers and learners and focusing on making India a skilled nation. At “EduKyu”, we exist to create experiences where desire to learn and eagerness to serve comes together to satisfy the social needs ofthe nation.VISION Contribution to changing trend of Education in India. JobDescription Manager in Career Development (MCD)Job Location: : Noida, Uttar PradeshJob Details: \\uf0b7 AchievingBranch targets(End to end Sales). \\uf0b7 Prospect generation through cold calling. \\uf0b7 Meeting &Counseling prospective students(mostly working executives in various industries) \\uf0b7 Primary and Secondary research \\uf0b7 Verify trainers and business Identity on region bases. \\uf0b7 Analyze Software for trainers \\uf0b7 Connecting with trainers and learner’s over the phone or mail Job Responsibilities \\uf0fc Business Development: - \\uf0b7 Generating revenues by achieving individual target. \\uf0b7 Presenting Company’s offer to the perspective client \\uf0b7 Handle Objections. \\uf0b7 Converting suspects into prospects and closing deals. \\uf0fc Schedule Adherence: - \\uf0b7 Daily monitoring of Individual as well as team activity \\uf0b7 Maintaining daily report. \\uf0fc Training and Educationaltraining: - \\uf0b7 Depth knowledge about education industry. \\uf0b7 Opportunity to understand business strategies and hierarchy of Industry. \\uf0fc Networking Skills \\uf0b7 Chance to get session with big trainers’ tycoon. \\uf0b7 Opportunity to be a part of Biggest Association of trainers in India. \\uf0fc Visual Management: - \\uf0b7 To develop the visual controls on the daily schedule. \\uf0b7 Preparation of one point standards. \\uf0b7 Work Instruction for the better understanding of associates performing the work.Expected start date: 7/12/2020Experience - 0 to 3 yearsQualification - MBAJob Type: Full-timeSalary: ₹19,000.00 - ₹25,000.00 per monthSchedule:Day shiftMorning shiftExperience:sales: 1 year (Preferred)Education:Master\\'s (Required)Work Remotely:No',\n",
       "  \"Will be responsible for Service Operation for multiple states.Job Type: Full-timeSalary: Up to ₹25,000.00 per monthExperience:work: 4 years (Preferred)total work: 5 years (Preferred)Education:Bachelor's (Preferred)Industry:Customer ServiceWork Remotely:No\"],\n",
       " ['₹14,244 - ₹28,532 a month',\n",
       "  '₹14,334 - ₹28,768 a month',\n",
       "  '₹14,500 - ₹22,000 a month',\n",
       "  '₹11,453 - ₹26,755 a month',\n",
       "  '₹16,200 - ₹33,000 a month',\n",
       "  '₹11,434 - ₹26,756 a month',\n",
       "  '₹11,334 - ₹27,424 a month',\n",
       "  '₹27,000 - ₹32,000 a month',\n",
       "  '₹12,000 - ₹20,000 a month',\n",
       "  '₹10,000 - ₹15,000 a month',\n",
       "  '₹15,000 - ₹20,000 a month',\n",
       "  '₹19,000 - ₹20,000 a month',\n",
       "  '₹11,500 - ₹13,500 a month',\n",
       "  '₹19,000 - ₹25,000 a month',\n",
       "  '₹25,000 a month'])"
      ]
     },
     "execution_count": 27,
     "metadata": {},
     "output_type": "execute_result"
    }
   ],
   "source": [
    "title,company_name,description,salary"
   ]
  },
  {
   "cell_type": "code",
   "execution_count": 28,
   "metadata": {},
   "outputs": [],
   "source": [
    "import pandas as pd \n",
    "   \n",
    "lst = [title,company_name,salary,description] \n",
    " \n",
    "df = pd.DataFrame(list(zip(title,company_name,salary,description)), columns =['Title','Company','Salary','Description']) \n",
    "df\n",
    "df.to_csv('Indeed_ex.csv',index=False)"
   ]
  },
  {
   "cell_type": "code",
   "execution_count": 19,
   "metadata": {},
   "outputs": [],
   "source": [
    "browser.get(\"https://in.indeed.com/viewjob?cmp=ArtGrami-Creative-Marketing-Private-Limited&t=Back+Office+Executive&jk=ce667cc09ae5e002&vjs=3\")"
   ]
  },
  {
   "cell_type": "code",
   "execution_count": 20,
   "metadata": {},
   "outputs": [
    {
     "data": {
      "text/plain": [
       "'ArtGrami Creative Marketing Private Limited\\n-\\nNoida, Uttar Pradesh'"
      ]
     },
     "execution_count": 20,
     "metadata": {},
     "output_type": "execute_result"
    }
   ],
   "source": [
    "job_name = browser.find_element_by_class_name(\"jobsearch-InlineCompanyRating\")\n",
    "job_name.text"
   ]
  },
  {
   "cell_type": "code",
   "execution_count": null,
   "metadata": {},
   "outputs": [],
   "source": []
  }
 ],
 "metadata": {
  "kernelspec": {
   "display_name": "Python 3",
   "language": "python",
   "name": "python3"
  },
  "language_info": {
   "codemirror_mode": {
    "name": "ipython",
    "version": 3
   },
   "file_extension": ".py",
   "mimetype": "text/x-python",
   "name": "python",
   "nbconvert_exporter": "python",
   "pygments_lexer": "ipython3",
   "version": "3.7.4"
  }
 },
 "nbformat": 4,
 "nbformat_minor": 2
}
