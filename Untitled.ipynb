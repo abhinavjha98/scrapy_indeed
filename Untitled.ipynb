{
 "cells": [
  {
   "cell_type": "code",
   "execution_count": 1,
   "metadata": {},
   "outputs": [],
   "source": [
    "import pandas as pd\n",
    "import re\n",
    "import requests\n",
    "from selenium.common.exceptions import NoSuchElementException\n",
    "from bs4 import BeautifulSoup\n",
    "from datetime import date, timedelta, datetime\n",
    "from IPython.core.display import clear_output\n",
    "from random import randint\n",
    "from requests import get\n",
    "from selenium import webdriver\n",
    "from selenium.webdriver.common.action_chains import ActionChains\n",
    "from time import sleep\n",
    "from time import time\n",
    "start_time = time()\n",
    "import urllib.request\n",
    "from warnings import warn\n",
    "import math"
   ]
  },
  {
   "cell_type": "code",
   "execution_count": 2,
   "metadata": {},
   "outputs": [],
   "source": [
    "url = \"https://www.indeed.com/jobs?q=&l=vista%2C+ca\"\n",
    "browser = webdriver.Chrome(\"chromedriver.exe\")\n",
    "browser.get(url)\n",
    "browsers = webdriver.Chrome(\"chromedriver.exe\")\n",
    "browsers.get(url)"
   ]
  },
  {
   "cell_type": "code",
   "execution_count": 3,
   "metadata": {},
   "outputs": [
    {
     "name": "stdout",
     "output_type": "stream",
     "text": [
      "https://www.indeed.com/rc/clk?jk=8a587f52871dc251&fccid=0739a410837ee13f&vjs=3\n",
      "https://www.indeed.com/rc/clk?jk=11fb307c1e04fbc9&fccid=938c68fc89db4b9d&vjs=3\n",
      "https://www.indeed.com/rc/clk?jk=1162116e6953c2af&fccid=baa0b2acdbd0eff6&vjs=3\n",
      "https://www.indeed.com/rc/clk?jk=e51790ecaeb0c012&fccid=4c5f927329eee10e&vjs=3\n",
      "https://www.indeed.com/rc/clk?jk=30a333bd84b89c28&fccid=9f8c71b73195be9d&vjs=3\n",
      "https://www.indeed.com/rc/clk?jk=aede72969ed89223&fccid=419801c05606d650&vjs=3\n",
      "https://www.indeed.com/rc/clk?jk=7a18910de8ddddde&fccid=9f8c71b73195be9d&vjs=3\n",
      "https://www.indeed.com/rc/clk?jk=743e9ce2e0646891&fccid=7bec89cb1b3b9073&vjs=3\n",
      "https://www.indeed.com/rc/clk?jk=a42bc2cce21f2680&fccid=a88e611ddef97571&vjs=3\n",
      "https://www.indeed.com/rc/clk?jk=d333ce01bf3639c4&fccid=4c5f927329eee10e&vjs=3\n",
      "https://www.indeed.com/rc/clk?jk=9a6b854b698a96d9&fccid=baa0b2acdbd0eff6&vjs=3\n",
      "https://www.indeed.com/rc/clk?jk=fa5df1c214b71109&fccid=7051f6d28c157bc1&vjs=3\n",
      "https://www.indeed.com/rc/clk?jk=699384ce4f98659c&fccid=7fd9915d800fd80f&vjs=3\n",
      "https://www.indeed.com/rc/clk?jk=47020401759847cf&fccid=7051f6d28c157bc1&vjs=3\n",
      "https://www.indeed.com/rc/clk?jk=b816b0b242956c4e&fccid=9a55d5dc8c10ef41&vjs=3\n"
     ]
    }
   ],
   "source": [
    "data = browser.find_elements_by_xpath(\"//a[contains(@class, 'turnstileLink ')]\")\n",
    "for i in data:\n",
    "    print(i.get_attribute(\"href\"))"
   ]
  },
  {
   "cell_type": "code",
   "execution_count": 4,
   "metadata": {},
   "outputs": [],
   "source": [
    "url_max = url+\"&start=10000\"\n",
    "browser.get(url_max)"
   ]
  },
  {
   "cell_type": "code",
   "execution_count": 5,
   "metadata": {},
   "outputs": [],
   "source": [
    "count = browser.find_element_by_class_name(\"searchCount-a11y-contrast-color\")\n",
    "page_count = count.text\n",
    "page_count = page_count.replace(\" \", \"\")\n",
    "page_count = page_count.split(\"Page\")\n",
    "page_count = page_count[1].split(\"of\")\n",
    "page_count_int = int(page_count[0])"
   ]
  },
  {
   "cell_type": "code",
   "execution_count": 6,
   "metadata": {},
   "outputs": [
    {
     "data": {
      "text/plain": [
       "66"
      ]
     },
     "execution_count": 6,
     "metadata": {},
     "output_type": "execute_result"
    }
   ],
   "source": [
    "page_count_int"
   ]
  },
  {
   "cell_type": "code",
   "execution_count": 7,
   "metadata": {},
   "outputs": [],
   "source": [
    "data_page=[]\n",
    "for j in range(page_count_int+1):\n",
    "    data_page.append(url+\"&start=\"+str(j))"
   ]
  },
  {
   "cell_type": "code",
   "execution_count": 8,
   "metadata": {},
   "outputs": [],
   "source": [
    "# for i in data_page:\n",
    "#     browser.get(i)"
   ]
  },
  {
   "cell_type": "code",
   "execution_count": 9,
   "metadata": {},
   "outputs": [
    {
     "name": "stdout",
     "output_type": "stream",
     "text": [
      "https://www.indeed.com/rc/clk?jk=0e154e4c99381c8b&fccid=6e6cbd5e71a8e53a&vjs=3\n",
      "https://www.indeed.com/rc/clk?jk=daf7e59684c1c45c&fccid=8ccef2382df15811&vjs=3\n",
      "https://www.indeed.com/rc/clk?jk=e8593fb173223c89&fccid=50996180ba6219c2&vjs=3\n",
      "https://www.indeed.com/rc/clk?jk=4e265e79881b62fe&fccid=ffdf68a7a61343e5&vjs=3\n",
      "https://www.indeed.com/rc/clk?jk=0da14eeef58ede0e&fccid=ccdeb46f4bd79af0&vjs=3\n",
      "https://www.indeed.com/rc/clk?jk=0b2c581fed3a4d25&fccid=aa9a42cd55ff3fec&vjs=3\n",
      "https://www.indeed.com/rc/clk?jk=9220f3ed81589ce5&fccid=fbff34a41b165eb9&vjs=3\n",
      "https://www.indeed.com/rc/clk?jk=e8771f965955bdbc&fccid=a107ad36c029cbe2&vjs=3\n",
      "https://www.indeed.com/rc/clk?jk=4d7d894ab11ae32b&fccid=6dd2b85b361af592&vjs=3\n",
      "https://www.indeed.com/rc/clk?jk=af5d379af9abca38&fccid=ec7d57450b3c283f&vjs=3\n",
      "https://www.indeed.com/rc/clk?jk=970d1bd67cf7a5cf&fccid=c0fcb9db3445c9fb&vjs=3\n",
      "https://www.indeed.com/rc/clk?jk=5224144e122d7ccf&fccid=73068df1f81933cd&vjs=3\n",
      "https://www.indeed.com/rc/clk?jk=0508838dc2f9754d&fccid=afd6e70abde66661&vjs=3\n",
      "https://www.indeed.com/rc/clk?jk=319470b1644aa6c9&fccid=f9eed48af7b83fa3&vjs=3\n",
      "https://www.indeed.com/rc/clk?jk=2fb1624635963656&fccid=2cea3dcc3b88a602&vjs=3\n"
     ]
    }
   ],
   "source": [
    "data = browser.find_elements_by_xpath(\"//a[contains(@class, 'turnstileLink ')]\")\n",
    "for i in data:\n",
    "    print(i.get_attribute(\"href\"))"
   ]
  },
  {
   "cell_type": "code",
   "execution_count": 8,
   "metadata": {},
   "outputs": [],
   "source": [
    "browser.get(\"https://www.indeed.com/viewjob?jk=743e9ce2e0646891&from=serp&vjs=3\")"
   ]
  },
  {
   "cell_type": "code",
   "execution_count": 12,
   "metadata": {},
   "outputs": [
    {
     "data": {
      "text/plain": [
       "'Model Maker'"
      ]
     },
     "execution_count": 12,
     "metadata": {},
     "output_type": "execute_result"
    }
   ],
   "source": [
    "job_name = browser.find_element_by_class_name(\"jobsearch-JobInfoHeader-title\")\n",
    "job_name.text"
   ]
  },
  {
   "cell_type": "code",
   "execution_count": 13,
   "metadata": {},
   "outputs": [
    {
     "data": {
      "text/plain": [
       "'BLC Projects Pvt Ltd\\n-\\nNoida, Uttar Pradesh'"
      ]
     },
     "execution_count": 13,
     "metadata": {},
     "output_type": "execute_result"
    }
   ],
   "source": [
    "job_name = browser.find_element_by_class_name(\"jobsearch-InlineCompanyRating\")\n",
    "job_name.text"
   ]
  },
  {
   "cell_type": "code",
   "execution_count": 14,
   "metadata": {},
   "outputs": [
    {
     "data": {
      "text/plain": [
       "'₹2,80,000 - ₹4,35,000 a year'"
      ]
     },
     "execution_count": 14,
     "metadata": {},
     "output_type": "execute_result"
    }
   ],
   "source": [
    "job_name = browser.find_element_by_class_name(\"jobsearch-JobMetadataHeader-item \")\n",
    "job_name.text"
   ]
  },
  {
   "cell_type": "code",
   "execution_count": 15,
   "metadata": {},
   "outputs": [
    {
     "data": {
      "text/plain": [
       "'Urgent hiring.\\n1. Candidate who can join within a week is applicable.\\n2. Candidate should be ready to work on projects out of town.\\n3. Candidate having experience of wood working, engraving, cladding work will be preferred.\\nJob Type: Full-time\\nSalary: ₹280,000.00 - ₹435,000.00 per year\\nSchedule:\\nDay shift\\nSupplemental Pay:\\nOvertime pay\\nPerformance bonus\\nExperience:\\nwork: 1 year (Preferred)\\ntotal work: 1 year (Preferred)\\nEducation:\\nSecondary(10th Pass) (Preferred)\\nBenefits:\\nProvident fund (PF)\\nFlexible work hours\\nIndustry:\\nArchitecture\\nWork Remotely:\\nNo'"
      ]
     },
     "execution_count": 15,
     "metadata": {},
     "output_type": "execute_result"
    }
   ],
   "source": [
    "job_name = browser.find_element_by_class_name(\"jobsearch-jobDescriptionText\")\n",
    "job_name.text"
   ]
  },
  {
   "cell_type": "code",
   "execution_count": 19,
   "metadata": {},
   "outputs": [],
   "source": [
    "job_name = job_name.text.replace('\\n','')"
   ]
  },
  {
   "cell_type": "code",
   "execution_count": 21,
   "metadata": {},
   "outputs": [
    {
     "data": {
      "text/plain": [
       "'Urgent hiring.1. Candidate who can join within a week is applicable.2. Candidate should be ready to work on projects out of town.3. Candidate having experience of wood working, engraving, cladding work will be preferred.Job Type: Full-timeSalary: ₹280,000.00 - ₹435,000.00 per yearSchedule:Day shiftSupplemental Pay:Overtime payPerformance bonusExperience:work: 1 year (Preferred)total work: 1 year (Preferred)Education:Secondary(10th Pass) (Preferred)Benefits:Provident fund (PF)Flexible work hoursIndustry:ArchitectureWork Remotely:No'"
      ]
     },
     "execution_count": 21,
     "metadata": {},
     "output_type": "execute_result"
    }
   ],
   "source": [
    "job_name"
   ]
  },
  {
   "cell_type": "code",
   "execution_count": 11,
   "metadata": {
    "scrolled": false
   },
   "outputs": [],
   "source": [
    "title = []\n",
    "company_name = []\n",
    "description = []\n",
    "location=[]\n",
    "salary = []\n",
    "jobs_type=[]\n",
    "logo=[]\n",
    "link_apply=[]\n",
    "for i in data_page:\n",
    "\n",
    "    browser.get(i)\n",
    "    data = browser.find_elements_by_xpath(\"//a[contains(@class, 'turnstileLink ')]\")\n",
    "    for j in data:\n",
    "        browsers.get(j.get_attribute(\"href\"))\n",
    "        try:\n",
    "            job_name = browsers.find_element_by_class_name(\"jobsearch-JobInfoHeader-title\")\n",
    "            title.append(job_name.text)\n",
    "        except NoSuchElementException:\n",
    "            title.append(\"\")\n",
    "        try:\n",
    "            co_name = browsers.find_element_by_class_name(\"jobsearch-InlineCompanyRating\")\n",
    "            c_name = co_name.text\n",
    "            c_name = c_name.split(\"reviews\\n-\\n\")\n",
    "            location.append(c_name[1])\n",
    "        except IndexError:\n",
    "            location.append(\"\")\n",
    "        except NoSuchElementException:\n",
    "            location.append(\"\")\n",
    "            \n",
    "        try:\n",
    "            job_names = browsers.find_element_by_class_name(\"jobsearch-CompanyAvatar-companyLink\")\n",
    "            company_name.append(job_names.text)\n",
    "        except NoSuchElementException:\n",
    "            company_name.append(\"\")\n",
    "        try:    \n",
    "            job_name = browsers.find_element_by_css_selector(\"span.icl-u-xs-mr--xs\")\n",
    "            salary.append(job_name.text)\n",
    "        except NoSuchElementException:\n",
    "            salary.append(\"\")\n",
    "        try:    \n",
    "            job_name = browsers.find_element_by_class_name(\"jobsearch-jobDescriptionText\")\n",
    "            job_name = job_name.text.replace('\\n','')\n",
    "            description.append(job_name)\n",
    "        except NoSuchElementException:\n",
    "            description.append(\"\")\n",
    "            \n",
    "        try:\n",
    "            apply_link = browsers.find_elements_by_xpath(\"//a[contains(@class, 'icl-Button--primary')]\")\n",
    "            for i in apply_link:\n",
    "                if \"Apply On Company Site\" in i.text:\n",
    "                    r = requests.get(i.get_attribute(\"href\")) \n",
    "                    link_apply.append(r.url)\n",
    "        except NoSuchElementException:\n",
    "            link_apply.append(\"\")\n",
    "            \n",
    "            \n",
    "        try:\n",
    "            flag = 0\n",
    "            type_job = \"\"\n",
    "            job_name = browsers.find_elements_by_css_selector(\"div\")\n",
    "            job_type = \"\"\n",
    "            for i in job_name:\n",
    "                job_type = job_type + str(i.text)\n",
    "            if \"Part-time\" in job_type:\n",
    "                type_job = \"\"\n",
    "                flag=1\n",
    "                type_job += \"Part-time\"\n",
    "            if \"Full-time\" in job_type:\n",
    "                type_job = \"\"\n",
    "                flag=2\n",
    "                type_job += \"Full-time\"\n",
    "            if \"Part-time\" in job_type:\n",
    "                if \"Full-time\" in job_type:\n",
    "                    type_job = \"\"\n",
    "                    flag=3\n",
    "                    type_job += \"Part-time Full-time\"\n",
    "            if flag==0:\n",
    "                type_job +=\" \"\n",
    "            jobs_type.append(type_job)\n",
    "        except NoSuchElementException:\n",
    "            jobs_type.append(\"\")\n",
    "        try:\n",
    "            logo_name = browsers.find_element_by_xpath(\"//img[contains(@class,'jobsearch-CompanyAvatar-image')]\")\n",
    "            logo.append(logo_name.get_attribute(\"src\"))\n",
    "        except NoSuchElementException:\n",
    "            logo.append(\"\")\n",
    "    break"
   ]
  },
  {
   "cell_type": "code",
   "execution_count": 12,
   "metadata": {},
   "outputs": [],
   "source": [
    "import pandas as pd \n",
    "   \n",
    "lst = [title,company_name,salary,description] \n",
    " \n",
    "df = pd.DataFrame(list(zip(logo,title,company_name,location,salary,description,jobs_type,link_apply)), columns =['Logo','Title','Company','Location','Salary','Description','Job_type','Apply Link']) \n",
    "df\n",
    "df.to_csv('Indeed_ex.csv',index=False)"
   ]
  },
  {
   "cell_type": "code",
   "execution_count": 14,
   "metadata": {},
   "outputs": [],
   "source": [
    "browsers.get(\"https://www.indeed.com/viewjob?jk=1162116e6953c2af&tk=1eou91d6431h7000&from=serp&vjs=3\")"
   ]
  },
  {
   "cell_type": "code",
   "execution_count": 37,
   "metadata": {},
   "outputs": [
    {
     "data": {
      "text/plain": [
       "['', '', '', '', '', '', '', '', '', '', '']"
      ]
     },
     "execution_count": 37,
     "metadata": {},
     "output_type": "execute_result"
    }
   ],
   "source": [
    "salary"
   ]
  },
  {
   "cell_type": "code",
   "execution_count": 48,
   "metadata": {},
   "outputs": [],
   "source": [
    "job_name = browser.find_elements_by_css_selector(\"div\")\n",
    "job_type = \"\"\n",
    "for i in job_name:\n",
    "    job_type = job_type + str(i.text)"
   ]
  },
  {
   "cell_type": "code",
   "execution_count": 14,
   "metadata": {},
   "outputs": [],
   "source": [
    "logo_name = browser.find_element_by_xpath(\"//img[contains(@class,'jobsearch-CompanyAvatar-image')]\")"
   ]
  },
  {
   "cell_type": "code",
   "execution_count": 15,
   "metadata": {},
   "outputs": [
    {
     "data": {
      "text/plain": [
       "'https://d2q79iu7y748jz.cloudfront.net/s/_logo/fdbd491c877282a25e8593d3b41a9f59'"
      ]
     },
     "execution_count": 15,
     "metadata": {},
     "output_type": "execute_result"
    }
   ],
   "source": [
    "logo_name.get_attribute(\"src\")"
   ]
  },
  {
   "cell_type": "code",
   "execution_count": 10,
   "metadata": {},
   "outputs": [
    {
     "data": {
      "text/plain": [
       "['Michaels\\n7,916 ', 'Vista, CA 92083']"
      ]
     },
     "execution_count": 10,
     "metadata": {},
     "output_type": "execute_result"
    }
   ],
   "source": [
    "\n",
    "company_name = browser.find_element_by_class_name(\"jobsearch-InlineCompanyRating\")\n",
    "c_name = company_name.text\n",
    "c_name.split(\"reviews\\n-\\n\")\n"
   ]
  },
  {
   "cell_type": "code",
   "execution_count": 15,
   "metadata": {},
   "outputs": [
    {
     "data": {
      "text/plain": [
       "'$3,769 - $5,809 a month'"
      ]
     },
     "execution_count": 15,
     "metadata": {},
     "output_type": "execute_result"
    }
   ],
   "source": [
    "job_name = browsers.find_element_by_css_selector(\"span.icl-u-xs-mr--xs\")\n",
    "job_name.text"
   ]
  },
  {
   "cell_type": "code",
   "execution_count": 28,
   "metadata": {},
   "outputs": [],
   "source": [
    "apply_link = browsers.find_elements_by_xpath(\"//a[contains(@class, 'icl-Button--primary')]\")"
   ]
  },
  {
   "cell_type": "code",
   "execution_count": 33,
   "metadata": {},
   "outputs": [
    {
     "name": "stdout",
     "output_type": "stream",
     "text": [
      "https://careers.aldi.us/job/-/-/61/18176583?utm_campaign=tmp&utm_medium=ad&utm_source=indeed&utm_campaign=tmp&utm_medium=organic&utm_source=indeed.com\n"
     ]
    }
   ],
   "source": [
    "for i in apply_link:\n",
    "    if \"Apply On Company Site\" in i.text:\n",
    "        r = requests.get(i.get_attribute(\"href\")) \n",
    "        print(r.url)"
   ]
  },
  {
   "cell_type": "code",
   "execution_count": 18,
   "metadata": {},
   "outputs": [],
   "source": [
    "job_name = browsers.find_elements_by_css_selector(\"div\")"
   ]
  },
  {
   "cell_type": "code",
   "execution_count": 20,
   "metadata": {},
   "outputs": [],
   "source": [
    "job_type = \"\"\n",
    "for i in job_name:\n",
    "    job_type = job_type + str(i.text)"
   ]
  },
  {
   "cell_type": "code",
   "execution_count": 21,
   "metadata": {},
   "outputs": [
    {
     "data": {
      "text/plain": [
       "'Indeed logo\\nFind jobs\\nCompany Reviews\\nFind salaries\\nUpload your resume\\nSign in\\nEmployers / Post Job\\nWhat\\nWhere\\nFind Jobs\\nAdvanced Job Search\\nAcademic Advisor (3 positions), Office of Academic Advising\\nCalifornia State University San Marcos Corporation\\n70 reviews\\n-\\nSan Marcos, CA 92096\\nApply On Company Site\\nSave this job\\nJob details\\nSalary\\n$3,769 - $5,809 a month\\nFull Job Description\\nOverview\\nCalifornia State University San Marcos seeks to fill three Academic Advisor positions for the Office of Academic Advising (OAA). Individuals hired will be placed at an SSP1B, SSP II or SSP III level depending on skills, qualifications and experience. These positions will provide advising services to designated undergraduate students at CSUSM and in support of OAA and campus processing, policies, procedures, goals and objectives. Academic Advisor(s) will advise students regarding general education, major, minor and all university graduation requirements; review and maintain working knowledge of designated major requirements; Evaluate and update student records for designated majors to ensure accurate student records are maintained; Provide guidance to students experiencing academic distress and provide appropriate support and/or referrals; Review student records on a regular basis for various processes that are required of OAA. Individuals hired at the SSP III level will have a specific Area of Focus in addition to regular academic advising duties. The Office of Academic Advising seeks to recruit and retain a diverse community of professional Academic Advisors who will serve as role models for our diverse student body and who have a demonstrated commitment to the academic success of our students.\\nPosition Summary\\nThree (3) full-time, probationary positions.\\nAcademic Advisor\\n(Student Services Professional IB)\\nAcademic Advisor\\n(Student Services Professional II)\\nSenior Academic Advisor\\n(Student Services Professional III)\\nOpening Date: November 17, 2020\\nThis recruitment is open until filled with a first review of applications beginning December 2, 2020. For assurance of full consideration, applications and supporting material should be submitted by 11:59pm on December 1, 2020.\\n\\nApplication requires answers to supplemental questions.\\n\\nTo view the full job description and position requirements, please click on the following link: SSP IB - SSP III Position Descriptions\\n\\nSatisfactory completion of a background check (including a criminal records check) is required for employment. CSU will make a conditional offer of employment, which may be rescinded if the background check reveals disqualifying information, and/or it is discovered that the candidate knowingly withheld or falsified information. Failure to satisfactorily complete the background check may affect the continued employment of a current CSU employee who was conditionally offered the position.\\n\\nCalifornia State University San Marcos is an Affirmative Action/Equal Opportunity Employer that is strongly committed to promoting diversity in all areas of the campus community. We consider qualified applicants for employment without regard to age, physical or mental disability, gender or sex, genetic information, gender identity, gender expression, marital status, medical condition, nationality, race or ethnicity, religion or religious creed, sexual orientation, and veteran or military status.\\n\\n\"JEANNE CLERY ACT AND CAMPUS FIRE SAFETY RIGHT-TO-KNOW LAW\" NOTIFICATION - See Police Department\\'s website located at: http://www.csusm.edu/police/Clery.pdf\\n\\nCalifornia State University San Marcos is not a sposoring agent for staff or management positions (i.e. H1-B visas).\\nCompensation & Benefits\\nThis position is eligible for benefits.\\n\\nAnticipated Hiring Salary Range: $3,769 - $5,809 per month to be determined by the classification, education and experience of the successful candidate(s)\\n\\nStudent Services Professional IB\\nCSU Classification Salary Range: $3,796 - $5,369 per month\\n\\nStudent Services Professional II\\nCSU Classification Salary Range: $4,304 - $6,120 per month\\n\\nStudent Services Professional III\\nCSU Classification Salary Range: $4,691 - $6,683 per month\\nCalifornia State University San Marcos Corporation - 6 days ago - original job\\nReport job\\nAcademic Advisor jobs in San Marcos, CA\\nAcademic Advisor salaries in San Marcos, CA\\nCompany Info\\nFollow\\nGet job updates from California State University San Marcos Corporation\\nCalifornia State University San Marcos Corporation\\n70 reviews\\nCalifornia State University San Marcos (CSUSM or Cal State San Marcos) is a public comprehensive university in San Marcos, California, Un...\\nLet employers find you\\nThousands of employers search for candidates on Indeed\\nUpload your resume\\nHiring Lab\\nCareer Advice\\nBrowse Jobs\\nBrowse Companies\\nSalaries\\nFind Certifications\\nIndeed Events\\nWork at Indeed\\nCountries\\nAbout\\nHelp Center\\n© 2020 Indeed\\nDo Not Sell My Personal Information\\nPrivacy Center\\nCookies\\nPrivacy\\nTerms\\nLet Employers Find You\\nUpload Your ResumeIndeed logo\\nFind jobs\\nCompany Reviews\\nFind salaries\\nUpload your resume\\nSign in\\nEmployers / Post JobIndeed logo\\nFind jobs\\nCompany Reviews\\nFind salaries\\nUpload your resume\\nSign in\\nEmployers / Post JobIndeed logo\\nFind jobs\\nCompany Reviews\\nFind salaries\\nUpload your resume\\nSign in\\nEmployers / Post JobIndeed logoFind jobs\\nCompany Reviews\\nFind salariesUpload your resume\\nSign in\\nEmployers / Post JobUpload your resumeSign inEmployers / Post JobWhat\\nWhere\\nFind Jobs\\nAdvanced Job Search\\nAcademic Advisor (3 positions), Office of Academic Advising\\nCalifornia State University San Marcos Corporation\\n70 reviews\\n-\\nSan Marcos, CA 92096\\nApply On Company Site\\nSave this job\\nJob details\\nSalary\\n$3,769 - $5,809 a month\\nFull Job Description\\nOverview\\nCalifornia State University San Marcos seeks to fill three Academic Advisor positions for the Office of Academic Advising (OAA). Individuals hired will be placed at an SSP1B, SSP II or SSP III level depending on skills, qualifications and experience. These positions will provide advising services to designated undergraduate students at CSUSM and in support of OAA and campus processing, policies, procedures, goals and objectives. Academic Advisor(s) will advise students regarding general education, major, minor and all university graduation requirements; review and maintain working knowledge of designated major requirements; Evaluate and update student records for designated majors to ensure accurate student records are maintained; Provide guidance to students experiencing academic distress and provide appropriate support and/or referrals; Review student records on a regular basis for various processes that are required of OAA. Individuals hired at the SSP III level will have a specific Area of Focus in addition to regular academic advising duties. The Office of Academic Advising seeks to recruit and retain a diverse community of professional Academic Advisors who will serve as role models for our diverse student body and who have a demonstrated commitment to the academic success of our students.\\nPosition Summary\\nThree (3) full-time, probationary positions.\\nAcademic Advisor\\n(Student Services Professional IB)\\nAcademic Advisor\\n(Student Services Professional II)\\nSenior Academic Advisor\\n(Student Services Professional III)\\nOpening Date: November 17, 2020\\nThis recruitment is open until filled with a first review of applications beginning December 2, 2020. For assurance of full consideration, applications and supporting material should be submitted by 11:59pm on December 1, 2020.\\n\\nApplication requires answers to supplemental questions.\\n\\nTo view the full job description and position requirements, please click on the following link: SSP IB - SSP III Position Descriptions\\n\\nSatisfactory completion of a background check (including a criminal records check) is required for employment. CSU will make a conditional offer of employment, which may be rescinded if the background check reveals disqualifying information, and/or it is discovered that the candidate knowingly withheld or falsified information. Failure to satisfactorily complete the background check may affect the continued employment of a current CSU employee who was conditionally offered the position.\\n\\nCalifornia State University San Marcos is an Affirmative Action/Equal Opportunity Employer that is strongly committed to promoting diversity in all areas of the campus community. We consider qualified applicants for employment without regard to age, physical or mental disability, gender or sex, genetic information, gender identity, gender expression, marital status, medical condition, nationality, race or ethnicity, religion or religious creed, sexual orientation, and veteran or military status.\\n\\n\"JEANNE CLERY ACT AND CAMPUS FIRE SAFETY RIGHT-TO-KNOW LAW\" NOTIFICATION - See Police Department\\'s website located at: http://www.csusm.edu/police/Clery.pdf\\n\\nCalifornia State University San Marcos is not a sposoring agent for staff or management positions (i.e. H1-B visas).\\nCompensation & Benefits\\nThis position is eligible for benefits.\\n\\nAnticipated Hiring Salary Range: $3,769 - $5,809 per month to be determined by the classification, education and experience of the successful candidate(s)\\n\\nStudent Services Professional IB\\nCSU Classification Salary Range: $3,796 - $5,369 per month\\n\\nStudent Services Professional II\\nCSU Classification Salary Range: $4,304 - $6,120 per month\\n\\nStudent Services Professional III\\nCSU Classification Salary Range: $4,691 - $6,683 per month\\nCalifornia State University San Marcos Corporation - 6 days ago - original job\\nReport job\\nAcademic Advisor jobs in San Marcos, CA\\nAcademic Advisor salaries in San Marcos, CA\\nCompany Info\\nFollow\\nGet job updates from California State University San Marcos Corporation\\nCalifornia State University San Marcos Corporation\\n70 reviews\\nCalifornia State University San Marcos (CSUSM or Cal State San Marcos) is a public comprehensive university in San Marcos, California, Un...\\nLet employers find you\\nThousands of employers search for candidates on Indeed\\nUpload your resumeWhat\\nWhere\\nFind Jobs\\nAdvanced Job SearchWhat\\nWhere\\nFind Jobs\\nAdvanced Job SearchWhat\\nWhere\\nFind Jobs\\nAdvanced Job SearchWhat\\nWhere\\nFind Jobs\\nAdvanced Job SearchWhatWhereFind JobsAdvanced Job SearchAcademic Advisor (3 positions), Office of Academic Advising\\nCalifornia State University San Marcos Corporation\\n70 reviews\\n-\\nSan Marcos, CA 92096\\nApply On Company Site\\nSave this job\\nJob details\\nSalary\\n$3,769 - $5,809 a month\\nFull Job Description\\nOverview\\nCalifornia State University San Marcos seeks to fill three Academic Advisor positions for the Office of Academic Advising (OAA). Individuals hired will be placed at an SSP1B, SSP II or SSP III level depending on skills, qualifications and experience. These positions will provide advising services to designated undergraduate students at CSUSM and in support of OAA and campus processing, policies, procedures, goals and objectives. Academic Advisor(s) will advise students regarding general education, major, minor and all university graduation requirements; review and maintain working knowledge of designated major requirements; Evaluate and update student records for designated majors to ensure accurate student records are maintained; Provide guidance to students experiencing academic distress and provide appropriate support and/or referrals; Review student records on a regular basis for various processes that are required of OAA. Individuals hired at the SSP III level will have a specific Area of Focus in addition to regular academic advising duties. The Office of Academic Advising seeks to recruit and retain a diverse community of professional Academic Advisors who will serve as role models for our diverse student body and who have a demonstrated commitment to the academic success of our students.\\nPosition Summary\\nThree (3) full-time, probationary positions.\\nAcademic Advisor\\n(Student Services Professional IB)\\nAcademic Advisor\\n(Student Services Professional II)\\nSenior Academic Advisor\\n(Student Services Professional III)\\nOpening Date: November 17, 2020\\nThis recruitment is open until filled with a first review of applications beginning December 2, 2020. For assurance of full consideration, applications and supporting material should be submitted by 11:59pm on December 1, 2020.\\n\\nApplication requires answers to supplemental questions.\\n\\nTo view the full job description and position requirements, please click on the following link: SSP IB - SSP III Position Descriptions\\n\\nSatisfactory completion of a background check (including a criminal records check) is required for employment. CSU will make a conditional offer of employment, which may be rescinded if the background check reveals disqualifying information, and/or it is discovered that the candidate knowingly withheld or falsified information. Failure to satisfactorily complete the background check may affect the continued employment of a current CSU employee who was conditionally offered the position.\\n\\nCalifornia State University San Marcos is an Affirmative Action/Equal Opportunity Employer that is strongly committed to promoting diversity in all areas of the campus community. We consider qualified applicants for employment without regard to age, physical or mental disability, gender or sex, genetic information, gender identity, gender expression, marital status, medical condition, nationality, race or ethnicity, religion or religious creed, sexual orientation, and veteran or military status.\\n\\n\"JEANNE CLERY ACT AND CAMPUS FIRE SAFETY RIGHT-TO-KNOW LAW\" NOTIFICATION - See Police Department\\'s website located at: http://www.csusm.edu/police/Clery.pdf\\n\\nCalifornia State University San Marcos is not a sposoring agent for staff or management positions (i.e. H1-B visas).\\nCompensation & Benefits\\nThis position is eligible for benefits.\\n\\nAnticipated Hiring Salary Range: $3,769 - $5,809 per month to be determined by the classification, education and experience of the successful candidate(s)\\n\\nStudent Services Professional IB\\nCSU Classification Salary Range: $3,796 - $5,369 per month\\n\\nStudent Services Professional II\\nCSU Classification Salary Range: $4,304 - $6,120 per month\\n\\nStudent Services Professional III\\nCSU Classification Salary Range: $4,691 - $6,683 per month\\nCalifornia State University San Marcos Corporation - 6 days ago - original job\\nReport job\\nAcademic Advisor jobs in San Marcos, CA\\nAcademic Advisor salaries in San Marcos, CA\\nCompany Info\\nFollow\\nGet job updates from California State University San Marcos Corporation\\nCalifornia State University San Marcos Corporation\\n70 reviews\\nCalifornia State University San Marcos (CSUSM or Cal State San Marcos) is a public comprehensive university in San Marcos, California, Un...\\nLet employers find you\\nThousands of employers search for candidates on Indeed\\nUpload your resumeAcademic Advisor (3 positions), Office of Academic Advising\\nCalifornia State University San Marcos Corporation\\n70 reviews\\n-\\nSan Marcos, CA 92096\\nApply On Company Site\\nSave this job\\nJob details\\nSalary\\n$3,769 - $5,809 a month\\nFull Job Description\\nOverview\\nCalifornia State University San Marcos seeks to fill three Academic Advisor positions for the Office of Academic Advising (OAA). Individuals hired will be placed at an SSP1B, SSP II or SSP III level depending on skills, qualifications and experience. These positions will provide advising services to designated undergraduate students at CSUSM and in support of OAA and campus processing, policies, procedures, goals and objectives. Academic Advisor(s) will advise students regarding general education, major, minor and all university graduation requirements; review and maintain working knowledge of designated major requirements; Evaluate and update student records for designated majors to ensure accurate student records are maintained; Provide guidance to students experiencing academic distress and provide appropriate support and/or referrals; Review student records on a regular basis for various processes that are required of OAA. Individuals hired at the SSP III level will have a specific Area of Focus in addition to regular academic advising duties. The Office of Academic Advising seeks to recruit and retain a diverse community of professional Academic Advisors who will serve as role models for our diverse student body and who have a demonstrated commitment to the academic success of our students.\\nPosition Summary\\nThree (3) full-time, probationary positions.\\nAcademic Advisor\\n(Student Services Professional IB)\\nAcademic Advisor\\n(Student Services Professional II)\\nSenior Academic Advisor\\n(Student Services Professional III)\\nOpening Date: November 17, 2020\\nThis recruitment is open until filled with a first review of applications beginning December 2, 2020. For assurance of full consideration, applications and supporting material should be submitted by 11:59pm on December 1, 2020.\\n\\nApplication requires answers to supplemental questions.\\n\\nTo view the full job description and position requirements, please click on the following link: SSP IB - SSP III Position Descriptions\\n\\nSatisfactory completion of a background check (including a criminal records check) is required for employment. CSU will make a conditional offer of employment, which may be rescinded if the background check reveals disqualifying information, and/or it is discovered that the candidate knowingly withheld or falsified information. Failure to satisfactorily complete the background check may affect the continued employment of a current CSU employee who was conditionally offered the position.\\n\\nCalifornia State University San Marcos is an Affirmative Action/Equal Opportunity Employer that is strongly committed to promoting diversity in all areas of the campus community. We consider qualified applicants for employment without regard to age, physical or mental disability, gender or sex, genetic information, gender identity, gender expression, marital status, medical condition, nationality, race or ethnicity, religion or religious creed, sexual orientation, and veteran or military status.\\n\\n\"JEANNE CLERY ACT AND CAMPUS FIRE SAFETY RIGHT-TO-KNOW LAW\" NOTIFICATION - See Police Department\\'s website located at: http://www.csusm.edu/police/Clery.pdf\\n\\nCalifornia State University San Marcos is not a sposoring agent for staff or management positions (i.e. H1-B visas).\\nCompensation & Benefits\\nThis position is eligible for benefits.\\n\\nAnticipated Hiring Salary Range: $3,769 - $5,809 per month to be determined by the classification, education and experience of the successful candidate(s)\\n\\nStudent Services Professional IB\\nCSU Classification Salary Range: $3,796 - $5,369 per month\\n\\nStudent Services Professional II\\nCSU Classification Salary Range: $4,304 - $6,120 per month\\n\\nStudent Services Professional III\\nCSU Classification Salary Range: $4,691 - $6,683 per month\\nCalifornia State University San Marcos Corporation - 6 days ago - original job\\nReport job\\nAcademic Advisor jobs in San Marcos, CA\\nAcademic Advisor salaries in San Marcos, CA\\nCompany Info\\nFollow\\nGet job updates from California State University San Marcos Corporation\\nCalifornia State University San Marcos Corporation\\n70 reviews\\nCalifornia State University San Marcos (CSUSM or Cal State San Marcos) is a public comprehensive university in San Marcos, California, Un...\\nLet employers find you\\nThousands of employers search for candidates on Indeed\\nUpload your resumeAcademic Advisor (3 positions), Office of Academic Advising\\nCalifornia State University San Marcos Corporation\\n70 reviews\\n-\\nSan Marcos, CA 92096\\nApply On Company Site\\nSave this job\\nJob details\\nSalary\\n$3,769 - $5,809 a month\\nFull Job Description\\nOverview\\nCalifornia State University San Marcos seeks to fill three Academic Advisor positions for the Office of Academic Advising (OAA). Individuals hired will be placed at an SSP1B, SSP II or SSP III level depending on skills, qualifications and experience. These positions will provide advising services to designated undergraduate students at CSUSM and in support of OAA and campus processing, policies, procedures, goals and objectives. Academic Advisor(s) will advise students regarding general education, major, minor and all university graduation requirements; review and maintain working knowledge of designated major requirements; Evaluate and update student records for designated majors to ensure accurate student records are maintained; Provide guidance to students experiencing academic distress and provide appropriate support and/or referrals; Review student records on a regular basis for various processes that are required of OAA. Individuals hired at the SSP III level will have a specific Area of Focus in addition to regular academic advising duties. The Office of Academic Advising seeks to recruit and retain a diverse community of professional Academic Advisors who will serve as role models for our diverse student body and who have a demonstrated commitment to the academic success of our students.\\nPosition Summary\\nThree (3) full-time, probationary positions.\\nAcademic Advisor\\n(Student Services Professional IB)\\nAcademic Advisor\\n(Student Services Professional II)\\nSenior Academic Advisor\\n(Student Services Professional III)\\nOpening Date: November 17, 2020\\nThis recruitment is open until filled with a first review of applications beginning December 2, 2020. For assurance of full consideration, applications and supporting material should be submitted by 11:59pm on December 1, 2020.\\n\\nApplication requires answers to supplemental questions.\\n\\nTo view the full job description and position requirements, please click on the following link: SSP IB - SSP III Position Descriptions\\n\\nSatisfactory completion of a background check (including a criminal records check) is required for employment. CSU will make a conditional offer of employment, which may be rescinded if the background check reveals disqualifying information, and/or it is discovered that the candidate knowingly withheld or falsified information. Failure to satisfactorily complete the background check may affect the continued employment of a current CSU employee who was conditionally offered the position.\\n\\nCalifornia State University San Marcos is an Affirmative Action/Equal Opportunity Employer that is strongly committed to promoting diversity in all areas of the campus community. We consider qualified applicants for employment without regard to age, physical or mental disability, gender or sex, genetic information, gender identity, gender expression, marital status, medical condition, nationality, race or ethnicity, religion or religious creed, sexual orientation, and veteran or military status.\\n\\n\"JEANNE CLERY ACT AND CAMPUS FIRE SAFETY RIGHT-TO-KNOW LAW\" NOTIFICATION - See Police Department\\'s website located at: http://www.csusm.edu/police/Clery.pdf\\n\\nCalifornia State University San Marcos is not a sposoring agent for staff or management positions (i.e. H1-B visas).\\nCompensation & Benefits\\nThis position is eligible for benefits.\\n\\nAnticipated Hiring Salary Range: $3,769 - $5,809 per month to be determined by the classification, education and experience of the successful candidate(s)\\n\\nStudent Services Professional IB\\nCSU Classification Salary Range: $3,796 - $5,369 per month\\n\\nStudent Services Professional II\\nCSU Classification Salary Range: $4,304 - $6,120 per month\\n\\nStudent Services Professional III\\nCSU Classification Salary Range: $4,691 - $6,683 per month\\nCalifornia State University San Marcos Corporation - 6 days ago - original job\\nReport job\\nAcademic Advisor jobs in San Marcos, CA\\nAcademic Advisor salaries in San Marcos, CA\\nCompany Info\\nFollow\\nGet job updates from California State University San Marcos Corporation\\nCalifornia State University San Marcos Corporation\\n70 reviews\\nCalifornia State University San Marcos (CSUSM or Cal State San Marcos) is a public comprehensive university in San Marcos, California, Un...\\nLet employers find you\\nThousands of employers search for candidates on Indeed\\nUpload your resumeAcademic Advisor (3 positions), Office of Academic Advising\\nCalifornia State University San Marcos Corporation\\n70 reviews\\n-\\nSan Marcos, CA 92096\\nApply On Company Site\\nSave this job\\nJob details\\nSalary\\n$3,769 - $5,809 a month\\nFull Job Description\\nOverview\\nCalifornia State University San Marcos seeks to fill three Academic Advisor positions for the Office of Academic Advising (OAA). Individuals hired will be placed at an SSP1B, SSP II or SSP III level depending on skills, qualifications and experience. These positions will provide advising services to designated undergraduate students at CSUSM and in support of OAA and campus processing, policies, procedures, goals and objectives. Academic Advisor(s) will advise students regarding general education, major, minor and all university graduation requirements; review and maintain working knowledge of designated major requirements; Evaluate and update student records for designated majors to ensure accurate student records are maintained; Provide guidance to students experiencing academic distress and provide appropriate support and/or referrals; Review student records on a regular basis for various processes that are required of OAA. Individuals hired at the SSP III level will have a specific Area of Focus in addition to regular academic advising duties. The Office of Academic Advising seeks to recruit and retain a diverse community of professional Academic Advisors who will serve as role models for our diverse student body and who have a demonstrated commitment to the academic success of our students.\\nPosition Summary\\nThree (3) full-time, probationary positions.\\nAcademic Advisor\\n(Student Services Professional IB)\\nAcademic Advisor\\n(Student Services Professional II)\\nSenior Academic Advisor\\n(Student Services Professional III)\\nOpening Date: November 17, 2020\\nThis recruitment is open until filled with a first review of applications beginning December 2, 2020. For assurance of full consideration, applications and supporting material should be submitted by 11:59pm on December 1, 2020.\\n\\nApplication requires answers to supplemental questions.\\n\\nTo view the full job description and position requirements, please click on the following link: SSP IB - SSP III Position Descriptions\\n\\nSatisfactory completion of a background check (including a criminal records check) is required for employment. CSU will make a conditional offer of employment, which may be rescinded if the background check reveals disqualifying information, and/or it is discovered that the candidate knowingly withheld or falsified information. Failure to satisfactorily complete the background check may affect the continued employment of a current CSU employee who was conditionally offered the position.\\n\\nCalifornia State University San Marcos is an Affirmative Action/Equal Opportunity Employer that is strongly committed to promoting diversity in all areas of the campus community. We consider qualified applicants for employment without regard to age, physical or mental disability, gender or sex, genetic information, gender identity, gender expression, marital status, medical condition, nationality, race or ethnicity, religion or religious creed, sexual orientation, and veteran or military status.\\n\\n\"JEANNE CLERY ACT AND CAMPUS FIRE SAFETY RIGHT-TO-KNOW LAW\" NOTIFICATION - See Police Department\\'s website located at: http://www.csusm.edu/police/Clery.pdf\\n\\nCalifornia State University San Marcos is not a sposoring agent for staff or management positions (i.e. H1-B visas).\\nCompensation & Benefits\\nThis position is eligible for benefits.\\n\\nAnticipated Hiring Salary Range: $3,769 - $5,809 per month to be determined by the classification, education and experience of the successful candidate(s)\\n\\nStudent Services Professional IB\\nCSU Classification Salary Range: $3,796 - $5,369 per month\\n\\nStudent Services Professional II\\nCSU Classification Salary Range: $4,304 - $6,120 per month\\n\\nStudent Services Professional III\\nCSU Classification Salary Range: $4,691 - $6,683 per month\\nCalifornia State University San Marcos Corporation - 6 days ago - original job\\nReport job\\nAcademic Advisor jobs in San Marcos, CA\\nAcademic Advisor salaries in San Marcos, CAAcademic Advisor (3 positions), Office of Academic Advising\\nCalifornia State University San Marcos Corporation\\n70 reviews\\n-\\nSan Marcos, CA 92096\\nApply On Company Site\\nSave this job\\nJob details\\nSalary\\n$3,769 - $5,809 a month\\nFull Job Description\\nOverview\\nCalifornia State University San Marcos seeks to fill three Academic Advisor positions for the Office of Academic Advising (OAA). Individuals hired will be placed at an SSP1B, SSP II or SSP III level depending on skills, qualifications and experience. These positions will provide advising services to designated undergraduate students at CSUSM and in support of OAA and campus processing, policies, procedures, goals and objectives. Academic Advisor(s) will advise students regarding general education, major, minor and all university graduation requirements; review and maintain working knowledge of designated major requirements; Evaluate and update student records for designated majors to ensure accurate student records are maintained; Provide guidance to students experiencing academic distress and provide appropriate support and/or referrals; Review student records on a regular basis for various processes that are required of OAA. Individuals hired at the SSP III level will have a specific Area of Focus in addition to regular academic advising duties. The Office of Academic Advising seeks to recruit and retain a diverse community of professional Academic Advisors who will serve as role models for our diverse student body and who have a demonstrated commitment to the academic success of our students.\\nPosition Summary\\nThree (3) full-time, probationary positions.\\nAcademic Advisor\\n(Student Services Professional IB)\\nAcademic Advisor\\n(Student Services Professional II)\\nSenior Academic Advisor\\n(Student Services Professional III)\\nOpening Date: November 17, 2020\\nThis recruitment is open until filled with a first review of applications beginning December 2, 2020. For assurance of full consideration, applications and supporting material should be submitted by 11:59pm on December 1, 2020.\\n\\nApplication requires answers to supplemental questions.\\n\\nTo view the full job description and position requirements, please click on the following link: SSP IB - SSP III Position Descriptions\\n\\nSatisfactory completion of a background check (including a criminal records check) is required for employment. CSU will make a conditional offer of employment, which may be rescinded if the background check reveals disqualifying information, and/or it is discovered that the candidate knowingly withheld or falsified information. Failure to satisfactorily complete the background check may affect the continued employment of a current CSU employee who was conditionally offered the position.\\n\\nCalifornia State University San Marcos is an Affirmative Action/Equal Opportunity Employer that is strongly committed to promoting diversity in all areas of the campus community. We consider qualified applicants for employment without regard to age, physical or mental disability, gender or sex, genetic information, gender identity, gender expression, marital status, medical condition, nationality, race or ethnicity, religion or religious creed, sexual orientation, and veteran or military status.\\n\\n\"JEANNE CLERY ACT AND CAMPUS FIRE SAFETY RIGHT-TO-KNOW LAW\" NOTIFICATION - See Police Department\\'s website located at: http://www.csusm.edu/police/Clery.pdf\\n\\nCalifornia State University San Marcos is not a sposoring agent for staff or management positions (i.e. H1-B visas).\\nCompensation & Benefits\\nThis position is eligible for benefits.\\n\\nAnticipated Hiring Salary Range: $3,769 - $5,809 per month to be determined by the classification, education and experience of the successful candidate(s)\\n\\nStudent Services Professional IB\\nCSU Classification Salary Range: $3,796 - $5,369 per month\\n\\nStudent Services Professional II\\nCSU Classification Salary Range: $4,304 - $6,120 per month\\n\\nStudent Services Professional III\\nCSU Classification Salary Range: $4,691 - $6,683 per month\\nCalifornia State University San Marcos Corporation - 6 days ago - original job\\nReport jobAcademic Advisor (3 positions), Office of Academic Advising\\nCalifornia State University San Marcos Corporation\\n70 reviews\\n-\\nSan Marcos, CA 92096\\nApply On Company Site\\nSave this job\\nJob details\\nSalary\\n$3,769 - $5,809 a month\\nFull Job Description\\nOverview\\nCalifornia State University San Marcos seeks to fill three Academic Advisor positions for the Office of Academic Advising (OAA). Individuals hired will be placed at an SSP1B, SSP II or SSP III level depending on skills, qualifications and experience. These positions will provide advising services to designated undergraduate students at CSUSM and in support of OAA and campus processing, policies, procedures, goals and objectives. Academic Advisor(s) will advise students regarding general education, major, minor and all university graduation requirements; review and maintain working knowledge of designated major requirements; Evaluate and update student records for designated majors to ensure accurate student records are maintained; Provide guidance to students experiencing academic distress and provide appropriate support and/or referrals; Review student records on a regular basis for various processes that are required of OAA. Individuals hired at the SSP III level will have a specific Area of Focus in addition to regular academic advising duties. The Office of Academic Advising seeks to recruit and retain a diverse community of professional Academic Advisors who will serve as role models for our diverse student body and who have a demonstrated commitment to the academic success of our students.\\nPosition Summary\\nThree (3) full-time, probationary positions.\\nAcademic Advisor\\n(Student Services Professional IB)\\nAcademic Advisor\\n(Student Services Professional II)\\nSenior Academic Advisor\\n(Student Services Professional III)\\nOpening Date: November 17, 2020\\nThis recruitment is open until filled with a first review of applications beginning December 2, 2020. For assurance of full consideration, applications and supporting material should be submitted by 11:59pm on December 1, 2020.\\n\\nApplication requires answers to supplemental questions.\\n\\nTo view the full job description and position requirements, please click on the following link: SSP IB - SSP III Position Descriptions\\n\\nSatisfactory completion of a background check (including a criminal records check) is required for employment. CSU will make a conditional offer of employment, which may be rescinded if the background check reveals disqualifying information, and/or it is discovered that the candidate knowingly withheld or falsified information. Failure to satisfactorily complete the background check may affect the continued employment of a current CSU employee who was conditionally offered the position.\\n\\nCalifornia State University San Marcos is an Affirmative Action/Equal Opportunity Employer that is strongly committed to promoting diversity in all areas of the campus community. We consider qualified applicants for employment without regard to age, physical or mental disability, gender or sex, genetic information, gender identity, gender expression, marital status, medical condition, nationality, race or ethnicity, religion or religious creed, sexual orientation, and veteran or military status.\\n\\n\"JEANNE CLERY ACT AND CAMPUS FIRE SAFETY RIGHT-TO-KNOW LAW\" NOTIFICATION - See Police Department\\'s website located at: http://www.csusm.edu/police/Clery.pdf\\n\\nCalifornia State University San Marcos is not a sposoring agent for staff or management positions (i.e. H1-B visas).\\nCompensation & Benefits\\nThis position is eligible for benefits.\\n\\nAnticipated Hiring Salary Range: $3,769 - $5,809 per month to be determined by the classification, education and experience of the successful candidate(s)\\n\\nStudent Services Professional IB\\nCSU Classification Salary Range: $3,796 - $5,369 per month\\n\\nStudent Services Professional II\\nCSU Classification Salary Range: $4,304 - $6,120 per month\\n\\nStudent Services Professional III\\nCSU Classification Salary Range: $4,691 - $6,683 per month\\nCalifornia State University San Marcos Corporation - 6 days ago - original job\\nReport jobAcademic Advisor (3 positions), Office of Academic Advising\\nCalifornia State University San Marcos Corporation\\n70 reviews\\n-\\nSan Marcos, CA 92096\\nApply On Company Site\\nSave this jobAcademic Advisor (3 positions), Office of Academic Advising\\nCalifornia State University San Marcos Corporation\\n70 reviews\\n-\\nSan Marcos, CA 92096Academic Advisor (3 positions), Office of Academic AdvisingCalifornia State University San Marcos Corporation\\n70 reviews\\n-\\nSan Marcos, CA 92096California State University San Marcos Corporation\\n70 reviews\\n-\\nSan Marcos, CA 92096California State University San Marcos Corporation\\n70 reviews\\n-\\nSan Marcos, CA 92096California State University San Marcos Corporation\\n70 reviews\\n-\\nSan Marcos, CA 92096California State University San Marcos Corporation70 reviews70 reviews70 reviews70 reviews-San Marcos, CA 92096Apply On Company Site\\nSave this jobApply On Company SiteApply On Company SiteApply On Company SiteApply On Company SiteSave this jobSave this jobSave this jobSave this jobSave this jobJob details\\nSalary\\n$3,769 - $5,809 a month\\nFull Job Description\\nOverview\\nCalifornia State University San Marcos seeks to fill three Academic Advisor positions for the Office of Academic Advising (OAA). Individuals hired will be placed at an SSP1B, SSP II or SSP III level depending on skills, qualifications and experience. These positions will provide advising services to designated undergraduate students at CSUSM and in support of OAA and campus processing, policies, procedures, goals and objectives. Academic Advisor(s) will advise students regarding general education, major, minor and all university graduation requirements; review and maintain working knowledge of designated major requirements; Evaluate and update student records for designated majors to ensure accurate student records are maintained; Provide guidance to students experiencing academic distress and provide appropriate support and/or referrals; Review student records on a regular basis for various processes that are required of OAA. Individuals hired at the SSP III level will have a specific Area of Focus in addition to regular academic advising duties. The Office of Academic Advising seeks to recruit and retain a diverse community of professional Academic Advisors who will serve as role models for our diverse student body and who have a demonstrated commitment to the academic success of our students.\\nPosition Summary\\nThree (3) full-time, probationary positions.\\nAcademic Advisor\\n(Student Services Professional IB)\\nAcademic Advisor\\n(Student Services Professional II)\\nSenior Academic Advisor\\n(Student Services Professional III)\\nOpening Date: November 17, 2020\\nThis recruitment is open until filled with a first review of applications beginning December 2, 2020. For assurance of full consideration, applications and supporting material should be submitted by 11:59pm on December 1, 2020.\\n\\nApplication requires answers to supplemental questions.\\n\\nTo view the full job description and position requirements, please click on the following link: SSP IB - SSP III Position Descriptions\\n\\nSatisfactory completion of a background check (including a criminal records check) is required for employment. CSU will make a conditional offer of employment, which may be rescinded if the background check reveals disqualifying information, and/or it is discovered that the candidate knowingly withheld or falsified information. Failure to satisfactorily complete the background check may affect the continued employment of a current CSU employee who was conditionally offered the position.\\n\\nCalifornia State University San Marcos is an Affirmative Action/Equal Opportunity Employer that is strongly committed to promoting diversity in all areas of the campus community. We consider qualified applicants for employment without regard to age, physical or mental disability, gender or sex, genetic information, gender identity, gender expression, marital status, medical condition, nationality, race or ethnicity, religion or religious creed, sexual orientation, and veteran or military status.\\n\\n\"JEANNE CLERY ACT AND CAMPUS FIRE SAFETY RIGHT-TO-KNOW LAW\" NOTIFICATION - See Police Department\\'s website located at: http://www.csusm.edu/police/Clery.pdf\\n\\nCalifornia State University San Marcos is not a sposoring agent for staff or management positions (i.e. H1-B visas).\\nCompensation & Benefits\\nThis position is eligible for benefits.\\n\\nAnticipated Hiring Salary Range: $3,769 - $5,809 per month to be determined by the classification, education and experience of the successful candidate(s)\\n\\nStudent Services Professional IB\\nCSU Classification Salary Range: $3,796 - $5,369 per month\\n\\nStudent Services Professional II\\nCSU Classification Salary Range: $4,304 - $6,120 per month\\n\\nStudent Services Professional III\\nCSU Classification Salary Range: $4,691 - $6,683 per monthJob details\\nSalary\\n$3,769 - $5,809 a monthJob details\\nSalary\\n$3,769 - $5,809 a monthJob detailsSalary\\n$3,769 - $5,809 a monthSalaryOverview\\nCalifornia State University San Marcos seeks to fill three Academic Advisor positions for the Office of Academic Advising (OAA). Individuals hired will be placed at an SSP1B, SSP II or SSP III level depending on skills, qualifications and experience. These positions will provide advising services to designated undergraduate students at CSUSM and in support of OAA and campus processing, policies, procedures, goals and objectives. Academic Advisor(s) will advise students regarding general education, major, minor and all university graduation requirements; review and maintain working knowledge of designated major requirements; Evaluate and update student records for designated majors to ensure accurate student records are maintained; Provide guidance to students experiencing academic distress and provide appropriate support and/or referrals; Review student records on a regular basis for various processes that are required of OAA. Individuals hired at the SSP III level will have a specific Area of Focus in addition to regular academic advising duties. The Office of Academic Advising seeks to recruit and retain a diverse community of professional Academic Advisors who will serve as role models for our diverse student body and who have a demonstrated commitment to the academic success of our students.\\nPosition Summary\\nThree (3) full-time, probationary positions.\\nAcademic Advisor\\n(Student Services Professional IB)\\nAcademic Advisor\\n(Student Services Professional II)\\nSenior Academic Advisor\\n(Student Services Professional III)\\nOpening Date: November 17, 2020\\nThis recruitment is open until filled with a first review of applications beginning December 2, 2020. For assurance of full consideration, applications and supporting material should be submitted by 11:59pm on December 1, 2020.\\n\\nApplication requires answers to supplemental questions.\\n\\nTo view the full job description and position requirements, please click on the following link: SSP IB - SSP III Position Descriptions\\n\\nSatisfactory completion of a background check (including a criminal records check) is required for employment. CSU will make a conditional offer of employment, which may be rescinded if the background check reveals disqualifying information, and/or it is discovered that the candidate knowingly withheld or falsified information. Failure to satisfactorily complete the background check may affect the continued employment of a current CSU employee who was conditionally offered the position.\\n\\nCalifornia State University San Marcos is an Affirmative Action/Equal Opportunity Employer that is strongly committed to promoting diversity in all areas of the campus community. We consider qualified applicants for employment without regard to age, physical or mental disability, gender or sex, genetic information, gender identity, gender expression, marital status, medical condition, nationality, race or ethnicity, religion or religious creed, sexual orientation, and veteran or military status.\\n\\n\"JEANNE CLERY ACT AND CAMPUS FIRE SAFETY RIGHT-TO-KNOW LAW\" NOTIFICATION - See Police Department\\'s website located at: http://www.csusm.edu/police/Clery.pdf\\n\\nCalifornia State University San Marcos is not a sposoring agent for staff or management positions (i.e. H1-B visas).\\nCompensation & Benefits\\nThis position is eligible for benefits.\\n\\nAnticipated Hiring Salary Range: $3,769 - $5,809 per month to be determined by the classification, education and experience of the successful candidate(s)\\n\\nStudent Services Professional IB\\nCSU Classification Salary Range: $3,796 - $5,369 per month\\n\\nStudent Services Professional II\\nCSU Classification Salary Range: $4,304 - $6,120 per month\\n\\nStudent Services Professional III\\nCSU Classification Salary Range: $4,691 - $6,683 per monthOverview\\nCalifornia State University San Marcos seeks to fill three Academic Advisor positions for the Office of Academic Advising (OAA). Individuals hired will be placed at an SSP1B, SSP II or SSP III level depending on skills, qualifications and experience. These positions will provide advising services to designated undergraduate students at CSUSM and in support of OAA and campus processing, policies, procedures, goals and objectives. Academic Advisor(s) will advise students regarding general education, major, minor and all university graduation requirements; review and maintain working knowledge of designated major requirements; Evaluate and update student records for designated majors to ensure accurate student records are maintained; Provide guidance to students experiencing academic distress and provide appropriate support and/or referrals; Review student records on a regular basis for various processes that are required of OAA. Individuals hired at the SSP III level will have a specific Area of Focus in addition to regular academic advising duties. The Office of Academic Advising seeks to recruit and retain a diverse community of professional Academic Advisors who will serve as role models for our diverse student body and who have a demonstrated commitment to the academic success of our students.\\nPosition Summary\\nThree (3) full-time, probationary positions.\\nAcademic Advisor\\n(Student Services Professional IB)\\nAcademic Advisor\\n(Student Services Professional II)\\nSenior Academic Advisor\\n(Student Services Professional III)\\nOpening Date: November 17, 2020\\nThis recruitment is open until filled with a first review of applications beginning December 2, 2020. For assurance of full consideration, applications and supporting material should be submitted by 11:59pm on December 1, 2020.\\n\\nApplication requires answers to supplemental questions.\\n\\nTo view the full job description and position requirements, please click on the following link: SSP IB - SSP III Position Descriptions\\n\\nSatisfactory completion of a background check (including a criminal records check) is required for employment. CSU will make a conditional offer of employment, which may be rescinded if the background check reveals disqualifying information, and/or it is discovered that the candidate knowingly withheld or falsified information. Failure to satisfactorily complete the background check may affect the continued employment of a current CSU employee who was conditionally offered the position.\\n\\nCalifornia State University San Marcos is an Affirmative Action/Equal Opportunity Employer that is strongly committed to promoting diversity in all areas of the campus community. We consider qualified applicants for employment without regard to age, physical or mental disability, gender or sex, genetic information, gender identity, gender expression, marital status, medical condition, nationality, race or ethnicity, religion or religious creed, sexual orientation, and veteran or military status.\\n\\n\"JEANNE CLERY ACT AND CAMPUS FIRE SAFETY RIGHT-TO-KNOW LAW\" NOTIFICATION - See Police Department\\'s website located at: http://www.csusm.edu/police/Clery.pdf\\n\\nCalifornia State University San Marcos is not a sposoring agent for staff or management positions (i.e. H1-B visas).\\nCompensation & Benefits\\nThis position is eligible for benefits.\\n\\nAnticipated Hiring Salary Range: $3,769 - $5,809 per month to be determined by the classification, education and experience of the successful candidate(s)\\n\\nStudent Services Professional IB\\nCSU Classification Salary Range: $3,796 - $5,369 per month\\n\\nStudent Services Professional II\\nCSU Classification Salary Range: $4,304 - $6,120 per month\\n\\nStudent Services Professional III\\nCSU Classification Salary Range: $4,691 - $6,683 per monthCalifornia State University San Marcos seeks to fill three Academic Advisor positions for the Office of Academic Advising (OAA). Individuals hired will be placed at an SSP1B, SSP II or SSP III level depending on skills, qualifications and experience. These positions will provide advising services to designated undergraduate students at CSUSM and in support of OAA and campus processing, policies, procedures, goals and objectives. Academic Advisor(s) will advise students regarding general education, major, minor and all university graduation requirements; review and maintain working knowledge of designated major requirements; Evaluate and update student records for designated majors to ensure accurate student records are maintained; Provide guidance to students experiencing academic distress and provide appropriate support and/or referrals; Review student records on a regular basis for various processes that are required of OAA. Individuals hired at the SSP III level will have a specific Area of Focus in addition to regular academic advising duties. The Office of Academic Advising seeks to recruit and retain a diverse community of professional Academic Advisors who will serve as role models for our diverse student body and who have a demonstrated commitment to the academic success of our students.California State University San Marcos seeks to fill three Academic Advisor positions for the Office of Academic Advising (OAA). Individuals hired will be placed at an SSP1B, SSP II or SSP III level depending on skills, qualifications and experience. These positions will provide advising services to designated undergraduate students at CSUSM and in support of OAA and campus processing, policies, procedures, goals and objectives. Academic Advisor(s) will advise students regarding general education, major, minor and all university graduation requirements; review and maintain working knowledge of designated major requirements; Evaluate and update student records for designated majors to ensure accurate student records are maintained; Provide guidance to students experiencing academic distress and provide appropriate support and/or referrals; Review student records on a regular basis for various processes that are required of OAA. Individuals hired at the SSP III level will have a specific Area of Focus in addition to regular academic advising duties. The Office of Academic Advising seeks to recruit and retain a diverse community of professional Academic Advisors who will serve as role models for our diverse student body and who have a demonstrated commitment to the academic success of our students.California State University San Marcos seeks to fill three Academic Advisor positions for the Office of Academic Advising (OAA). Individuals hired will be placed at an SSP1B, SSP II or SSP III level depending on skills, qualifications and experience. These positions will provide advising services to designated undergraduate students at CSUSM and in support of OAA and campus processing, policies, procedures, goals and objectives. Academic Advisor(s) will advise students regarding general education, major, minor and all university graduation requirements; review and maintain working knowledge of designated major requirements; Evaluate and update student records for designated majors to ensure accurate student records are maintained; Provide guidance to students experiencing academic distress and provide appropriate support and/or referrals; Review student records on a regular basis for various processes that are required of OAA. Individuals hired at the SSP III level will have a specific Area of Focus in addition to regular academic advising duties. The Office of Academic Advising seeks to recruit and retain a diverse community of professional Academic Advisors who will serve as role models for our diverse student body and who have a demonstrated commitment to the academic success of our students.California State University San Marcos seeks to fill three Academic Advisor positions for the Office of Academic Advising (OAA). Individuals hired will be placed at an SSP1B, SSP II or SSP III level depending on skills, qualifications and experience. These positions will provide advising services to designated undergraduate students at CSUSM and in support of OAA and campus processing, policies, procedures, goals and objectives. Academic Advisor(s) will advise students regarding general education, major, minor and all university graduation requirements; review and maintain working knowledge of designated major requirements; Evaluate and update student records for designated majors to ensure accurate student records are maintained; Provide guidance to students experiencing academic distress and provide appropriate support and/or referrals; Review student records on a regular basis for various processes that are required of OAA. Individuals hired at the SSP III level will have a specific Area of Focus in addition to regular academic advising duties. The Office of Academic Advising seeks to recruit and retain a diverse community of professional Academic Advisors who will serve as role models for our diverse student body and who have a demonstrated commitment to the academic success of our students.Three (3) full-time, probationary positions.\\nAcademic Advisor\\n(Student Services Professional IB)\\nAcademic Advisor\\n(Student Services Professional II)\\nSenior Academic Advisor\\n(Student Services Professional III)\\nOpening Date: November 17, 2020\\nThis recruitment is open until filled with a first review of applications beginning December 2, 2020. For assurance of full consideration, applications and supporting material should be submitted by 11:59pm on December 1, 2020.\\n\\nApplication requires answers to supplemental questions.\\n\\nTo view the full job description and position requirements, please click on the following link: SSP IB - SSP III Position Descriptions\\n\\nSatisfactory completion of a background check (including a criminal records check) is required for employment. CSU will make a conditional offer of employment, which may be rescinded if the background check reveals disqualifying information, and/or it is discovered that the candidate knowingly withheld or falsified information. Failure to satisfactorily complete the background check may affect the continued employment of a current CSU employee who was conditionally offered the position.\\n\\nCalifornia State University San Marcos is an Affirmative Action/Equal Opportunity Employer that is strongly committed to promoting diversity in all areas of the campus community. We consider qualified applicants for employment without regard to age, physical or mental disability, gender or sex, genetic information, gender identity, gender expression, marital status, medical condition, nationality, race or ethnicity, religion or religious creed, sexual orientation, and veteran or military status.\\n\\n\"JEANNE CLERY ACT AND CAMPUS FIRE SAFETY RIGHT-TO-KNOW LAW\" NOTIFICATION - See Police Department\\'s website located at: http://www.csusm.edu/police/Clery.pdf\\n\\nCalifornia State University San Marcos is not a sposoring agent for staff or management positions (i.e. H1-B visas).Three (3) full-time, probationary positions.\\nAcademic Advisor\\n(Student Services Professional IB)\\nAcademic Advisor\\n(Student Services Professional II)\\nSenior Academic Advisor\\n(Student Services Professional III)\\nOpening Date: November 17, 2020\\nThis recruitment is open until filled with a first review of applications beginning December 2, 2020. For assurance of full consideration, applications and supporting material should be submitted by 11:59pm on December 1, 2020.\\n\\nApplication requires answers to supplemental questions.\\n\\nTo view the full job description and position requirements, please click on the following link: SSP IB - SSP III Position Descriptions\\n\\nSatisfactory completion of a background check (including a criminal records check) is required for employment. CSU will make a conditional offer of employment, which may be rescinded if the background check reveals disqualifying information, and/or it is discovered that the candidate knowingly withheld or falsified information. Failure to satisfactorily complete the background check may affect the continued employment of a current CSU employee who was conditionally offered the position.\\n\\nCalifornia State University San Marcos is an Affirmative Action/Equal Opportunity Employer that is strongly committed to promoting diversity in all areas of the campus community. We consider qualified applicants for employment without regard to age, physical or mental disability, gender or sex, genetic information, gender identity, gender expression, marital status, medical condition, nationality, race or ethnicity, religion or religious creed, sexual orientation, and veteran or military status.\\n\\n\"JEANNE CLERY ACT AND CAMPUS FIRE SAFETY RIGHT-TO-KNOW LAW\" NOTIFICATION - See Police Department\\'s website located at: http://www.csusm.edu/police/Clery.pdf\\n\\nCalifornia State University San Marcos is not a sposoring agent for staff or management positions (i.e. H1-B visas).Three (3) full-time, probationary positions.\\nAcademic Advisor\\n(Student Services Professional IB)\\nAcademic Advisor\\n(Student Services Professional II)\\nSenior Academic Advisor\\n(Student Services Professional III)\\nOpening Date: November 17, 2020\\nThis recruitment is open until filled with a first review of applications beginning December 2, 2020. For assurance of full consideration, applications and supporting material should be submitted by 11:59pm on December 1, 2020.\\n\\nApplication requires answers to supplemental questions.\\n\\nTo view the full job description and position requirements, please click on the following link: SSP IB - SSP III Position Descriptions\\n\\nSatisfactory completion of a background check (including a criminal records check) is required for employment. CSU will make a conditional offer of employment, which may be rescinded if the background check reveals disqualifying information, and/or it is discovered that the candidate knowingly withheld or falsified information. Failure to satisfactorily complete the background check may affect the continued employment of a current CSU employee who was conditionally offered the position.\\n\\nCalifornia State University San Marcos is an Affirmative Action/Equal Opportunity Employer that is strongly committed to promoting diversity in all areas of the campus community. We consider qualified applicants for employment without regard to age, physical or mental disability, gender or sex, genetic information, gender identity, gender expression, marital status, medical condition, nationality, race or ethnicity, religion or religious creed, sexual orientation, and veteran or military status.\\n\\n\"JEANNE CLERY ACT AND CAMPUS FIRE SAFETY RIGHT-TO-KNOW LAW\" NOTIFICATION - See Police Department\\'s website located at: http://www.csusm.edu/police/Clery.pdf\\n\\nCalifornia State University San Marcos is not a sposoring agent for staff or management positions (i.e. H1-B visas).Opening Date: November 17, 2020This recruitment is open until filled with a first review of applications beginning December 2, 2020. For assurance of full consideration, applications and supporting material should be submitted by 11:59pm on December 1, 2020.Application requires answers to supplemental questions.To view the full job description and position requirements, please click on the following link: SSP IB - SSP III Position DescriptionsSatisfactory completion of a background check (including a criminal records check) is required for employment. CSU will make a conditional offer of employment, which may be rescinded if the background check reveals disqualifying information, and/or it is discovered that the candidate knowingly withheld or falsified information. Failure to satisfactorily complete the background check may affect the continued employment of a current CSU employee who was conditionally offered the position.California State University San Marcos is an Affirmative Action/Equal Opportunity Employer that is strongly committed to promoting diversity in all areas of the campus community. We consider qualified applicants for employment without regard to age, physical or mental disability, gender or sex, genetic information, gender identity, gender expression, marital status, medical condition, nationality, race or ethnicity, religion or religious creed, sexual orientation, and veteran or military status.\"JEANNE CLERY ACT AND CAMPUS FIRE SAFETY RIGHT-TO-KNOW LAW\" NOTIFICATION - See Police Department\\'s website located at: http://www.csusm.edu/police/Clery.pdfCalifornia State University San Marcos is not a sposoring agent for staff or management positions (i.e. H1-B visas).This position is eligible for benefits.\\n\\nAnticipated Hiring Salary Range: $3,769 - $5,809 per month to be determined by the classification, education and experience of the successful candidate(s)\\n\\nStudent Services Professional IB\\nCSU Classification Salary Range: $3,796 - $5,369 per month\\n\\nStudent Services Professional II\\nCSU Classification Salary Range: $4,304 - $6,120 per month\\n\\nStudent Services Professional III\\nCSU Classification Salary Range: $4,691 - $6,683 per monthThis position is eligible for benefits.\\n\\nAnticipated Hiring Salary Range: $3,769 - $5,809 per month to be determined by the classification, education and experience of the successful candidate(s)\\n\\nStudent Services Professional IB\\nCSU Classification Salary Range: $3,796 - $5,369 per month\\n\\nStudent Services Professional II\\nCSU Classification Salary Range: $4,304 - $6,120 per month\\n\\nStudent Services Professional III\\nCSU Classification Salary Range: $4,691 - $6,683 per monthThis position is eligible for benefits.\\n\\nAnticipated Hiring Salary Range: $3,769 - $5,809 per month to be determined by the classification, education and experience of the successful candidate(s)\\n\\nStudent Services Professional IB\\nCSU Classification Salary Range: $3,796 - $5,369 per month\\n\\nStudent Services Professional II\\nCSU Classification Salary Range: $4,304 - $6,120 per month\\n\\nStudent Services Professional III\\nCSU Classification Salary Range: $4,691 - $6,683 per monthCalifornia State University San Marcos Corporation - 6 days ago - original job\\nReport jobCalifornia State University San Marcos Corporation - 6 days ago - original job\\nReport jobReport jobReport jobAcademic Advisor jobs in San Marcos, CA\\nAcademic Advisor salaries in San Marcos, CAAcademic Advisor jobs in San Marcos, CA\\nAcademic Advisor salaries in San Marcos, CAAcademic Advisor jobs in San Marcos, CA\\nAcademic Advisor salaries in San Marcos, CAAcademic Advisor jobs in San Marcos, CAAcademic Advisor salaries in San Marcos, CACompany Info\\nFollow\\nGet job updates from California State University San Marcos Corporation\\nCalifornia State University San Marcos Corporation\\n70 reviews\\nCalifornia State University San Marcos (CSUSM or Cal State San Marcos) is a public comprehensive university in San Marcos, California, Un...\\nLet employers find you\\nThousands of employers search for candidates on Indeed\\nUpload your resumeCompany Info\\nFollow\\nGet job updates from California State University San Marcos Corporation\\nCalifornia State University San Marcos Corporation\\n70 reviews\\nCalifornia State University San Marcos (CSUSM or Cal State San Marcos) is a public comprehensive university in San Marcos, California, Un...Company Info\\nFollow\\nGet job updates from California State University San Marcos Corporation\\nCalifornia State University San Marcos Corporation\\n70 reviews\\nCalifornia State University San Marcos (CSUSM or Cal State San Marcos) is a public comprehensive university in San Marcos, California, Un...Company Info\\nFollow\\nGet job updates from California State University San Marcos Corporation\\nCalifornia State University San Marcos Corporation\\n70 reviews\\nCalifornia State University San Marcos (CSUSM or Cal State San Marcos) is a public comprehensive university in San Marcos, California, Un...Company InfoFollow\\nGet job updates from California State University San Marcos Corporation\\nCalifornia State University San Marcos Corporation\\n70 reviews\\nCalifornia State University San Marcos (CSUSM or Cal State San Marcos) is a public comprehensive university in San Marcos, California, Un...Follow\\nGet job updates from California State University San Marcos CorporationFollow\\nGet job updates from California State University San Marcos CorporationFollow\\nGet job updates from California State University San Marcos CorporationFollow\\nGet job updates from California State University San Marcos CorporationFollowGet job updates from California State University San Marcos CorporationCalifornia State University San Marcos Corporation\\n70 reviews70 reviews70 reviews70 reviews70 reviewsCalifornia State University San Marcos (CSUSM or Cal State San Marcos) is a public comprehensive university in San Marcos, California, Un...Let employers find you\\nThousands of employers search for candidates on Indeed\\nUpload your resumeLet employers find you\\nThousands of employers search for candidates on Indeed\\nUpload your resumeLet employers find you\\nThousands of employers search for candidates on Indeed\\nUpload your resumeLet employers find youThousands of employers search for candidates on Indeed\\nUpload your resumeThousands of employers search for candidates on IndeedUpload your resumeHiring Lab\\nCareer Advice\\nBrowse Jobs\\nBrowse Companies\\nSalaries\\nFind Certifications\\nIndeed Events\\nWork at Indeed\\nCountries\\nAbout\\nHelp Center\\n© 2020 Indeed\\nDo Not Sell My Personal Information\\nPrivacy Center\\nCookies\\nPrivacy\\nTerms\\nLet Employers Find You\\nUpload Your ResumeHiring Lab\\nCareer Advice\\nBrowse Jobs\\nBrowse Companies\\nSalaries\\nFind Certifications\\nIndeed Events\\nWork at Indeed\\nCountries\\nAbout\\nHelp Center\\n© 2020 Indeed\\nDo Not Sell My Personal Information\\nPrivacy Center\\nCookies\\nPrivacy\\nTermsHiring Lab\\nCareer Advice\\nBrowse Jobs\\nBrowse Companies\\nSalaries\\nFind Certifications\\nIndeed Events\\nWork at Indeed\\nCountries\\nAbout\\nHelp Center\\n© 2020 Indeed\\nDo Not Sell My Personal Information\\nPrivacy Center\\nCookies\\nPrivacy\\nTermsLet Employers Find You\\nUpload Your Resume'"
      ]
     },
     "execution_count": 21,
     "metadata": {},
     "output_type": "execute_result"
    }
   ],
   "source": [
    "job_type"
   ]
  },
  {
   "cell_type": "code",
   "execution_count": 24,
   "metadata": {},
   "outputs": [
    {
     "data": {
      "text/plain": [
       "['$3,769 - $5,809 a month',\n",
       " '$3,796 - $5,369 a month',\n",
       " 'From $5,220 a month',\n",
       " '',\n",
       " '$5,220 a month',\n",
       " '$4,372 - $10,792 a month',\n",
       " '',\n",
       " '',\n",
       " '',\n",
       " '',\n",
       " '',\n",
       " '$2,713 a month',\n",
       " '']"
      ]
     },
     "execution_count": 24,
     "metadata": {},
     "output_type": "execute_result"
    }
   ],
   "source": [
    "salary"
   ]
  },
  {
   "cell_type": "code",
   "execution_count": null,
   "metadata": {},
   "outputs": [],
   "source": []
  }
 ],
 "metadata": {
  "kernelspec": {
   "display_name": "Python 3",
   "language": "python",
   "name": "python3"
  },
  "language_info": {
   "codemirror_mode": {
    "name": "ipython",
    "version": 3
   },
   "file_extension": ".py",
   "mimetype": "text/x-python",
   "name": "python",
   "nbconvert_exporter": "python",
   "pygments_lexer": "ipython3",
   "version": "3.7.4"
  }
 },
 "nbformat": 4,
 "nbformat_minor": 2
}
